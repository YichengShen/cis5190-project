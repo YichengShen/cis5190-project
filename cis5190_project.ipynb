{
  "nbformat": 4,
  "nbformat_minor": 0,
  "metadata": {
    "colab": {
      "provenance": [],
      "collapsed_sections": [
        "FN8xMQprfPA4",
        "g2GE9V9m6g1G",
        "_gDkU-j-fCmZ",
        "MRiOtrywfAo1",
        "uijiWgkuh1jB",
        "3Zpv4S0-fDBv",
        "U5mmgQF_h1jQ",
        "Lr2zX7ZxNyFQ",
        "KQUrQmXx8YL4"
      ],
      "machine_shape": "hm",
      "include_colab_link": true
    },
    "kernelspec": {
      "name": "python3",
      "display_name": "Python 3"
    },
    "language_info": {
      "name": "python"
    },
    "gpuClass": "premium",
    "accelerator": "GPU"
  },
  "cells": [
    {
      "cell_type": "markdown",
      "metadata": {
        "id": "view-in-github",
        "colab_type": "text"
      },
      "source": [
        "<a href=\"https://colab.research.google.com/github/YichengShen/cis5190-project/blob/main/cis5190_project.ipynb\" target=\"_parent\"><img src=\"https://colab.research.google.com/assets/colab-badge.svg\" alt=\"Open In Colab\"/></a>"
      ]
    },
    {
      "cell_type": "markdown",
      "source": [
        "# **Automating Stock Trading with Reinforcement Learning**\n"
      ],
      "metadata": {
        "id": "zZ6hkRXi3Sk5"
      }
    },
    {
      "cell_type": "code",
      "source": [
        "hyperparameters = {\n",
        "    \"turbulence_threshold\":100,\n",
        "    \"transaction_cost\":0.001\n",
        "}"
      ],
      "metadata": {
        "id": "WYu1pphkAsAZ"
      },
      "execution_count": null,
      "outputs": []
    },
    {
      "cell_type": "markdown",
      "source": [
        "## **Section 1**: Environment Setup & Preparation"
      ],
      "metadata": {
        "id": "DqHAmZQW3X4h"
      }
    },
    {
      "cell_type": "markdown",
      "source": [
        "### 1.1 Library Installation & Imports"
      ],
      "metadata": {
        "id": "9lsdJ_dN4SHf"
      }
    },
    {
      "cell_type": "code",
      "execution_count": null,
      "metadata": {
        "id": "1io1zFO73PIm"
      },
      "outputs": [],
      "source": [
        "%%capture\n",
        "# install finrl library\n",
        "!pip install swig\n",
        "!pip install git+https://github.com/AI4Finance-Foundation/FinRL.git\n",
        "!pip install wrds"
      ]
    },
    {
      "cell_type": "code",
      "source": [
        "import pandas as pd\n",
        "import numpy as np\n",
        "import matplotlib\n",
        "import matplotlib.pyplot as plt\n",
        "# matplotlib.use('Agg')\n",
        "import datetime\n",
        "\n",
        "%matplotlib inline\n",
        "from finrl import config\n",
        "from finrl import config_tickers\n",
        "from finrl.meta.preprocessor.yahoodownloader import YahooDownloader\n",
        "from finrl.meta.preprocessor.preprocessors import FeatureEngineer, data_split\n",
        "from finrl.meta.env_stock_trading.env_stocktrading import StockTradingEnv\n",
        "from finrl.agents.stablebaselines3.models import DRLAgent\n",
        "from finrl.plot import backtest_stats, backtest_plot, get_daily_return, get_baseline\n",
        "from finrl.main import check_and_make_directories\n",
        "from pprint import pprint\n",
        "from stable_baselines3.common.logger import configure\n",
        "import sys\n",
        "sys.path.append(\"../FinRL\")\n",
        "\n",
        "import itertools\n",
        "\n",
        "from finrl.config import (\n",
        "    DATA_SAVE_DIR,\n",
        "    TRAINED_MODEL_DIR,\n",
        "    TENSORBOARD_LOG_DIR,\n",
        "    RESULTS_DIR,\n",
        "    INDICATORS,\n",
        "    TRAIN_START_DATE,\n",
        "    TRAIN_END_DATE,\n",
        "    TEST_START_DATE,\n",
        "    TEST_END_DATE,\n",
        "    TRADE_START_DATE,\n",
        "    TRADE_END_DATE,\n",
        ")\n",
        "\n",
        "from finrl.config_tickers import DOW_30_TICKER"
      ],
      "metadata": {
        "id": "KbLxgKzr4aLK"
      },
      "execution_count": null,
      "outputs": []
    },
    {
      "cell_type": "markdown",
      "source": [
        "### 1.2 Download Stock Data\n",
        "\n",
        "- We focus on the constituents (30 stocks) of the Dow 30 (Dow Jones Industrial Average). The Dow 30 is a stock market index that tracks 30 large companies trading on NYSE and Nasdaq. As of Octobor 2021, it includes stocks with the following tickers."
      ],
      "metadata": {
        "id": "uwxhR7155Vsf"
      }
    },
    {
      "cell_type": "code",
      "source": [
        "print(DOW_30_TICKER)"
      ],
      "metadata": {
        "colab": {
          "base_uri": "https://localhost:8080/"
        },
        "id": "QexV7lT35Zhz",
        "outputId": "7628f828-1699-43c3-c4cc-6f1365ae316f"
      },
      "execution_count": null,
      "outputs": [
        {
          "output_type": "stream",
          "name": "stdout",
          "text": [
            "['AXP', 'AMGN', 'AAPL', 'BA', 'CAT', 'CSCO', 'CVX', 'GS', 'HD', 'HON', 'IBM', 'INTC', 'JNJ', 'KO', 'JPM', 'MCD', 'MMM', 'MRK', 'MSFT', 'NKE', 'PG', 'TRV', 'UNH', 'CRM', 'VZ', 'V', 'WBA', 'WMT', 'DIS', 'DOW']\n"
          ]
        }
      ]
    },
    {
      "cell_type": "markdown",
      "source": [
        "- We download historical daily stock data of the 30 stocks using Yahoo Finance API."
      ],
      "metadata": {
        "id": "zW3DAJIQPiRE"
      }
    },
    {
      "cell_type": "code",
      "source": [
        "%%capture\n",
        "START_DATE = '2008-12-31'\n",
        "END_DATE = '2022-10-01'\n",
        "\n",
        "stock_df = YahooDownloader(start_date = START_DATE,\n",
        "                           end_date = END_DATE,\n",
        "                           ticker_list = DOW_30_TICKER).fetch_data()"
      ],
      "metadata": {
        "id": "iOOqtQwC5e-l"
      },
      "execution_count": null,
      "outputs": []
    },
    {
      "cell_type": "markdown",
      "source": [
        "### 1.3 Preprocess Stock Data"
      ],
      "metadata": {
        "id": "n7BwoUcFQyLp"
      }
    },
    {
      "cell_type": "code",
      "source": [
        "stock_df['date'] = pd.to_datetime(stock_df['date'], format='%Y-%m-%d')"
      ],
      "metadata": {
        "id": "ZwIlXio2RHgR"
      },
      "execution_count": null,
      "outputs": []
    },
    {
      "cell_type": "code",
      "source": [
        "stock_df = stock_df.sort_values(['date', 'tic'], ignore_index=True)"
      ],
      "metadata": {
        "id": "QRGkbICqRYgG"
      },
      "execution_count": null,
      "outputs": []
    },
    {
      "cell_type": "code",
      "source": [
        "stock_df.head()"
      ],
      "metadata": {
        "colab": {
          "base_uri": "https://localhost:8080/",
          "height": 206
        },
        "id": "5Z4uZDcfSVnN",
        "outputId": "0e76cef3-134a-4553-dd5c-ae621a180d6b"
      },
      "execution_count": null,
      "outputs": [
        {
          "output_type": "execute_result",
          "data": {
            "text/plain": [
              "        date       open       high        low      close     volume   tic  day\n",
              "0 2008-12-31   3.070357   3.133571   3.047857   2.598352  607541200  AAPL    2\n",
              "1 2008-12-31  57.110001  58.220001  57.060001  43.289665    6287200  AMGN    2\n",
              "2 2008-12-31  17.969999  18.750000  17.910000  14.796392    9625600   AXP    2\n",
              "3 2008-12-31  41.590000  43.049999  41.500000  32.005890    5443100    BA    2\n",
              "4 2008-12-31  43.700001  45.099998  43.700001  30.214802    6277400   CAT    2"
            ],
            "text/html": [
              "\n",
              "  <div id=\"df-a3ef6002-2b49-4494-b19a-5053c7d77e1d\">\n",
              "    <div class=\"colab-df-container\">\n",
              "      <div>\n",
              "<style scoped>\n",
              "    .dataframe tbody tr th:only-of-type {\n",
              "        vertical-align: middle;\n",
              "    }\n",
              "\n",
              "    .dataframe tbody tr th {\n",
              "        vertical-align: top;\n",
              "    }\n",
              "\n",
              "    .dataframe thead th {\n",
              "        text-align: right;\n",
              "    }\n",
              "</style>\n",
              "<table border=\"1\" class=\"dataframe\">\n",
              "  <thead>\n",
              "    <tr style=\"text-align: right;\">\n",
              "      <th></th>\n",
              "      <th>date</th>\n",
              "      <th>open</th>\n",
              "      <th>high</th>\n",
              "      <th>low</th>\n",
              "      <th>close</th>\n",
              "      <th>volume</th>\n",
              "      <th>tic</th>\n",
              "      <th>day</th>\n",
              "    </tr>\n",
              "  </thead>\n",
              "  <tbody>\n",
              "    <tr>\n",
              "      <th>0</th>\n",
              "      <td>2008-12-31</td>\n",
              "      <td>3.070357</td>\n",
              "      <td>3.133571</td>\n",
              "      <td>3.047857</td>\n",
              "      <td>2.598352</td>\n",
              "      <td>607541200</td>\n",
              "      <td>AAPL</td>\n",
              "      <td>2</td>\n",
              "    </tr>\n",
              "    <tr>\n",
              "      <th>1</th>\n",
              "      <td>2008-12-31</td>\n",
              "      <td>57.110001</td>\n",
              "      <td>58.220001</td>\n",
              "      <td>57.060001</td>\n",
              "      <td>43.289665</td>\n",
              "      <td>6287200</td>\n",
              "      <td>AMGN</td>\n",
              "      <td>2</td>\n",
              "    </tr>\n",
              "    <tr>\n",
              "      <th>2</th>\n",
              "      <td>2008-12-31</td>\n",
              "      <td>17.969999</td>\n",
              "      <td>18.750000</td>\n",
              "      <td>17.910000</td>\n",
              "      <td>14.796392</td>\n",
              "      <td>9625600</td>\n",
              "      <td>AXP</td>\n",
              "      <td>2</td>\n",
              "    </tr>\n",
              "    <tr>\n",
              "      <th>3</th>\n",
              "      <td>2008-12-31</td>\n",
              "      <td>41.590000</td>\n",
              "      <td>43.049999</td>\n",
              "      <td>41.500000</td>\n",
              "      <td>32.005890</td>\n",
              "      <td>5443100</td>\n",
              "      <td>BA</td>\n",
              "      <td>2</td>\n",
              "    </tr>\n",
              "    <tr>\n",
              "      <th>4</th>\n",
              "      <td>2008-12-31</td>\n",
              "      <td>43.700001</td>\n",
              "      <td>45.099998</td>\n",
              "      <td>43.700001</td>\n",
              "      <td>30.214802</td>\n",
              "      <td>6277400</td>\n",
              "      <td>CAT</td>\n",
              "      <td>2</td>\n",
              "    </tr>\n",
              "  </tbody>\n",
              "</table>\n",
              "</div>\n",
              "      <button class=\"colab-df-convert\" onclick=\"convertToInteractive('df-a3ef6002-2b49-4494-b19a-5053c7d77e1d')\"\n",
              "              title=\"Convert this dataframe to an interactive table.\"\n",
              "              style=\"display:none;\">\n",
              "        \n",
              "  <svg xmlns=\"http://www.w3.org/2000/svg\" height=\"24px\"viewBox=\"0 0 24 24\"\n",
              "       width=\"24px\">\n",
              "    <path d=\"M0 0h24v24H0V0z\" fill=\"none\"/>\n",
              "    <path d=\"M18.56 5.44l.94 2.06.94-2.06 2.06-.94-2.06-.94-.94-2.06-.94 2.06-2.06.94zm-11 1L8.5 8.5l.94-2.06 2.06-.94-2.06-.94L8.5 2.5l-.94 2.06-2.06.94zm10 10l.94 2.06.94-2.06 2.06-.94-2.06-.94-.94-2.06-.94 2.06-2.06.94z\"/><path d=\"M17.41 7.96l-1.37-1.37c-.4-.4-.92-.59-1.43-.59-.52 0-1.04.2-1.43.59L10.3 9.45l-7.72 7.72c-.78.78-.78 2.05 0 2.83L4 21.41c.39.39.9.59 1.41.59.51 0 1.02-.2 1.41-.59l7.78-7.78 2.81-2.81c.8-.78.8-2.07 0-2.86zM5.41 20L4 18.59l7.72-7.72 1.47 1.35L5.41 20z\"/>\n",
              "  </svg>\n",
              "      </button>\n",
              "      \n",
              "  <style>\n",
              "    .colab-df-container {\n",
              "      display:flex;\n",
              "      flex-wrap:wrap;\n",
              "      gap: 12px;\n",
              "    }\n",
              "\n",
              "    .colab-df-convert {\n",
              "      background-color: #E8F0FE;\n",
              "      border: none;\n",
              "      border-radius: 50%;\n",
              "      cursor: pointer;\n",
              "      display: none;\n",
              "      fill: #1967D2;\n",
              "      height: 32px;\n",
              "      padding: 0 0 0 0;\n",
              "      width: 32px;\n",
              "    }\n",
              "\n",
              "    .colab-df-convert:hover {\n",
              "      background-color: #E2EBFA;\n",
              "      box-shadow: 0px 1px 2px rgba(60, 64, 67, 0.3), 0px 1px 3px 1px rgba(60, 64, 67, 0.15);\n",
              "      fill: #174EA6;\n",
              "    }\n",
              "\n",
              "    [theme=dark] .colab-df-convert {\n",
              "      background-color: #3B4455;\n",
              "      fill: #D2E3FC;\n",
              "    }\n",
              "\n",
              "    [theme=dark] .colab-df-convert:hover {\n",
              "      background-color: #434B5C;\n",
              "      box-shadow: 0px 1px 3px 1px rgba(0, 0, 0, 0.15);\n",
              "      filter: drop-shadow(0px 1px 2px rgba(0, 0, 0, 0.3));\n",
              "      fill: #FFFFFF;\n",
              "    }\n",
              "  </style>\n",
              "\n",
              "      <script>\n",
              "        const buttonEl =\n",
              "          document.querySelector('#df-a3ef6002-2b49-4494-b19a-5053c7d77e1d button.colab-df-convert');\n",
              "        buttonEl.style.display =\n",
              "          google.colab.kernel.accessAllowed ? 'block' : 'none';\n",
              "\n",
              "        async function convertToInteractive(key) {\n",
              "          const element = document.querySelector('#df-a3ef6002-2b49-4494-b19a-5053c7d77e1d');\n",
              "          const dataTable =\n",
              "            await google.colab.kernel.invokeFunction('convertToInteractive',\n",
              "                                                     [key], {});\n",
              "          if (!dataTable) return;\n",
              "\n",
              "          const docLinkHtml = 'Like what you see? Visit the ' +\n",
              "            '<a target=\"_blank\" href=https://colab.research.google.com/notebooks/data_table.ipynb>data table notebook</a>'\n",
              "            + ' to learn more about interactive tables.';\n",
              "          element.innerHTML = '';\n",
              "          dataTable['output_type'] = 'display_data';\n",
              "          await google.colab.output.renderOutput(dataTable, element);\n",
              "          const docLink = document.createElement('div');\n",
              "          docLink.innerHTML = docLinkHtml;\n",
              "          element.appendChild(docLink);\n",
              "        }\n",
              "      </script>\n",
              "    </div>\n",
              "  </div>\n",
              "  "
            ]
          },
          "metadata": {},
          "execution_count": 262
        }
      ]
    },
    {
      "cell_type": "markdown",
      "source": [
        "### 1.4 Download Financial Data"
      ],
      "metadata": {
        "id": "FxBxQohA810m"
      }
    },
    {
      "cell_type": "markdown",
      "source": [
        "- This data comes from FinRL's tutorial."
      ],
      "metadata": {
        "id": "kGHqJkf52FVZ"
      }
    },
    {
      "cell_type": "code",
      "source": [
        "url = 'https://raw.githubusercontent.com/mariko-sawada/FinRL_with_fundamental_data/main/dow_30_fundamental_wrds.csv'\n",
        "\n",
        "financial_df = pd.read_csv(url)\n",
        "\n",
        "url_fr_df = 'https://raw.githubusercontent.com/YichengShen/cis5190-project/main/data/fr.csv'\n",
        "\n",
        "fr_df = pd.read_csv(url_fr_df)"
      ],
      "metadata": {
        "colab": {
          "base_uri": "https://localhost:8080/"
        },
        "id": "qsAOpA2m6MU7",
        "outputId": "65add288-ff15-4540-c5b8-c79400537101"
      },
      "execution_count": null,
      "outputs": [
        {
          "output_type": "stream",
          "name": "stderr",
          "text": [
            "/usr/local/lib/python3.8/dist-packages/IPython/core/interactiveshell.py:3326: DtypeWarning: Columns (16,25) have mixed types.Specify dtype option on import or set low_memory=False.\n",
            "  exec(code_obj, self.user_global_ns, self.user_ns)\n"
          ]
        }
      ]
    },
    {
      "cell_type": "markdown",
      "source": [
        "### 1.5 Preprocess Financial Data"
      ],
      "metadata": {
        "id": "FN8xMQprfPA4"
      }
    },
    {
      "cell_type": "markdown",
      "source": [
        "- We figure out the columns containing the ticker, the date indicating quarters, and the ratios."
      ],
      "metadata": {
        "id": "wMkBWc5W3Gly"
      }
    },
    {
      "cell_type": "code",
      "source": [
        "fr_columns = ['TICKER', 'qdate', 'CAPEI', 'bm',\n",
        "       'evm', 'pe_op_basic', 'pe_op_dil', 'pe_exi', 'pe_inc', 'ps', 'pcf',\n",
        "       'dpr', 'npm', 'opmbd', 'opmad', 'gpm', 'ptpm', 'cfm', 'roa', 'roe',\n",
        "       'roce', 'efftax', 'aftret_eq', 'aftret_invcapx', 'aftret_equity',\n",
        "       'pretret_noa', 'pretret_earnat', 'GProf', 'equity_invcap',\n",
        "       'debt_invcap', 'totdebt_invcap', 'capital_ratio', 'int_debt',\n",
        "       'int_totdebt', 'cash_lt', 'invt_act', 'rect_act', 'debt_at',\n",
        "       'debt_ebitda', 'short_debt', 'curr_debt', 'lt_debt', 'profit_lct',\n",
        "       'ocf_lct', 'cash_debt', 'fcf_ocf', 'lt_ppent', 'dltt_be', 'debt_assets',\n",
        "       'debt_capital', 'de_ratio', 'intcov', 'intcov_ratio', 'cash_ratio',\n",
        "       'quick_ratio', 'curr_ratio', 'cash_conversion', 'inv_turn', 'at_turn',\n",
        "       'rect_turn', 'pay_turn', 'sale_invcap', 'sale_equity', 'sale_nwc',\n",
        "       'rd_sale', 'adv_sale', 'staff_sale', 'accrual', 'ptb', 'PEG_trailing',\n",
        "       'divyield', 'PEG_1yrforward', 'PEG_ltgforward']\n",
        "\n",
        "fr_df = fr_df[fr_columns]"
      ],
      "metadata": {
        "id": "P5e-Niz6fdCC"
      },
      "execution_count": null,
      "outputs": []
    },
    {
      "cell_type": "code",
      "source": [
        "fr_df['qdate'] = pd.to_datetime(fr_df['qdate'], format='%Y-%m-%d')"
      ],
      "metadata": {
        "id": "TDh__UNahGKX"
      },
      "execution_count": null,
      "outputs": []
    },
    {
      "cell_type": "markdown",
      "source": [
        "- In each quarter, there are 3 months. There might be multiple rows of data in each quarter, so we average those rows to get quarterly data."
      ],
      "metadata": {
        "id": "jfgdhzByh6Vw"
      }
    },
    {
      "cell_type": "code",
      "source": [
        "fr_df = fr_df.groupby(by=['qdate', 'TICKER']).mean()\\\n",
        "             .reset_index()\\\n",
        "             .sort_values(by=['TICKER', 'qdate'])"
      ],
      "metadata": {
        "id": "M4oVsQqJiQmT"
      },
      "execution_count": null,
      "outputs": []
    },
    {
      "cell_type": "code",
      "source": [
        "original_fr_df = fr_df.copy()"
      ],
      "metadata": {
        "id": "QqPQ78Dmj6GR"
      },
      "execution_count": null,
      "outputs": []
    },
    {
      "cell_type": "markdown",
      "source": [
        "- If there are too many null values in a column, we drop the column."
      ],
      "metadata": {
        "id": "sbPNMuAe1vXT"
      }
    },
    {
      "cell_type": "code",
      "source": [
        "num_rows = fr_df.shape[0]\n",
        "null_threshold = 0.1\n",
        "\n",
        "# If there are more null values than the threshold, we remove the column\n",
        "fr_df = original_fr_df.dropna(axis='columns', thresh=int(num_rows*(1-null_threshold)))"
      ],
      "metadata": {
        "id": "91m0wjOyxhTv"
      },
      "execution_count": null,
      "outputs": []
    },
    {
      "cell_type": "code",
      "source": [
        "fr_df = fr_df.fillna(0)"
      ],
      "metadata": {
        "id": "G4EPadolBgbG"
      },
      "execution_count": null,
      "outputs": []
    },
    {
      "cell_type": "code",
      "source": [
        "len(original_fr_df.columns)"
      ],
      "metadata": {
        "colab": {
          "base_uri": "https://localhost:8080/"
        },
        "id": "UySCcb9ByJS5",
        "outputId": "4f062123-bdff-4f4e-820f-710b4b867583"
      },
      "execution_count": null,
      "outputs": [
        {
          "output_type": "execute_result",
          "data": {
            "text/plain": [
              "72"
            ]
          },
          "metadata": {},
          "execution_count": 270
        }
      ]
    },
    {
      "cell_type": "code",
      "source": [
        "len(fr_df.columns.values)"
      ],
      "metadata": {
        "colab": {
          "base_uri": "https://localhost:8080/"
        },
        "id": "ut3pGeFPwuDn",
        "outputId": "11ea8924-517d-42c2-f497-ad1b7d2c2e75"
      },
      "execution_count": null,
      "outputs": [
        {
          "output_type": "execute_result",
          "data": {
            "text/plain": [
              "58"
            ]
          },
          "metadata": {},
          "execution_count": 271
        }
      ]
    },
    {
      "cell_type": "code",
      "source": [
        "fr_df = fr_df.rename(columns={'TICKER':'tic', 'qdate':'date'})"
      ],
      "metadata": {
        "id": "xb0i3ajF9S_G"
      },
      "execution_count": null,
      "outputs": []
    },
    {
      "cell_type": "markdown",
      "source": [
        "### 1.6 Merge Stock Data with Financial Data"
      ],
      "metadata": {
        "id": "g2GE9V9m6g1G"
      }
    },
    {
      "cell_type": "code",
      "source": [
        "fe = FeatureEngineer(\n",
        "    use_technical_indicator=True,\n",
        "    tech_indicator_list = INDICATORS,\n",
        "    use_turbulence=True)\n",
        "\n",
        "processed_stock_df = fe.preprocess_data(stock_df)\n",
        "processed_stock_df.head(5)"
      ],
      "metadata": {
        "colab": {
          "base_uri": "https://localhost:8080/"
        },
        "id": "bWXt7sKvu97u",
        "outputId": "c4121eba-fe85-4b34-f58e-78631496ad0a"
      },
      "execution_count": null,
      "outputs": [
        {
          "output_type": "stream",
          "name": "stdout",
          "text": [
            "Successfully added technical indicators\n",
            "Successfully added turbulence index\n"
          ]
        },
        {
          "output_type": "execute_result",
          "data": {
            "text/plain": [
              "        date       open       high        low      close     volume   tic  \\\n",
              "0 2008-12-31   3.070357   3.133571   3.047857   2.598352  607541200  AAPL   \n",
              "1 2008-12-31  57.110001  58.220001  57.060001  43.289665    6287200  AMGN   \n",
              "2 2008-12-31  17.969999  18.750000  17.910000  14.796392    9625600   AXP   \n",
              "3 2008-12-31  41.590000  43.049999  41.500000  32.005890    5443100    BA   \n",
              "4 2008-12-31  43.700001  45.099998  43.700001  30.214802    6277400   CAT   \n",
              "\n",
              "   day  macd   boll_ub   boll_lb  rsi_30     cci_30  dx_30  close_30_sma  \\\n",
              "0    2   0.0  2.913038  2.448061   100.0  66.666667  100.0      2.598352   \n",
              "1    2   0.0  2.913038  2.448061   100.0  66.666667  100.0     43.289665   \n",
              "2    2   0.0  2.913038  2.448061   100.0  66.666667  100.0     14.796392   \n",
              "3    2   0.0  2.913038  2.448061   100.0  66.666667  100.0     32.005890   \n",
              "4    2   0.0  2.913038  2.448061   100.0  66.666667  100.0     30.214802   \n",
              "\n",
              "   close_60_sma  turbulence  \n",
              "0      2.598352         0.0  \n",
              "1     43.289665         0.0  \n",
              "2     14.796392         0.0  \n",
              "3     32.005890         0.0  \n",
              "4     30.214802         0.0  "
            ],
            "text/html": [
              "\n",
              "  <div id=\"df-47be33bb-7c62-41eb-ba78-d640c254c49c\">\n",
              "    <div class=\"colab-df-container\">\n",
              "      <div>\n",
              "<style scoped>\n",
              "    .dataframe tbody tr th:only-of-type {\n",
              "        vertical-align: middle;\n",
              "    }\n",
              "\n",
              "    .dataframe tbody tr th {\n",
              "        vertical-align: top;\n",
              "    }\n",
              "\n",
              "    .dataframe thead th {\n",
              "        text-align: right;\n",
              "    }\n",
              "</style>\n",
              "<table border=\"1\" class=\"dataframe\">\n",
              "  <thead>\n",
              "    <tr style=\"text-align: right;\">\n",
              "      <th></th>\n",
              "      <th>date</th>\n",
              "      <th>open</th>\n",
              "      <th>high</th>\n",
              "      <th>low</th>\n",
              "      <th>close</th>\n",
              "      <th>volume</th>\n",
              "      <th>tic</th>\n",
              "      <th>day</th>\n",
              "      <th>macd</th>\n",
              "      <th>boll_ub</th>\n",
              "      <th>boll_lb</th>\n",
              "      <th>rsi_30</th>\n",
              "      <th>cci_30</th>\n",
              "      <th>dx_30</th>\n",
              "      <th>close_30_sma</th>\n",
              "      <th>close_60_sma</th>\n",
              "      <th>turbulence</th>\n",
              "    </tr>\n",
              "  </thead>\n",
              "  <tbody>\n",
              "    <tr>\n",
              "      <th>0</th>\n",
              "      <td>2008-12-31</td>\n",
              "      <td>3.070357</td>\n",
              "      <td>3.133571</td>\n",
              "      <td>3.047857</td>\n",
              "      <td>2.598352</td>\n",
              "      <td>607541200</td>\n",
              "      <td>AAPL</td>\n",
              "      <td>2</td>\n",
              "      <td>0.0</td>\n",
              "      <td>2.913038</td>\n",
              "      <td>2.448061</td>\n",
              "      <td>100.0</td>\n",
              "      <td>66.666667</td>\n",
              "      <td>100.0</td>\n",
              "      <td>2.598352</td>\n",
              "      <td>2.598352</td>\n",
              "      <td>0.0</td>\n",
              "    </tr>\n",
              "    <tr>\n",
              "      <th>1</th>\n",
              "      <td>2008-12-31</td>\n",
              "      <td>57.110001</td>\n",
              "      <td>58.220001</td>\n",
              "      <td>57.060001</td>\n",
              "      <td>43.289665</td>\n",
              "      <td>6287200</td>\n",
              "      <td>AMGN</td>\n",
              "      <td>2</td>\n",
              "      <td>0.0</td>\n",
              "      <td>2.913038</td>\n",
              "      <td>2.448061</td>\n",
              "      <td>100.0</td>\n",
              "      <td>66.666667</td>\n",
              "      <td>100.0</td>\n",
              "      <td>43.289665</td>\n",
              "      <td>43.289665</td>\n",
              "      <td>0.0</td>\n",
              "    </tr>\n",
              "    <tr>\n",
              "      <th>2</th>\n",
              "      <td>2008-12-31</td>\n",
              "      <td>17.969999</td>\n",
              "      <td>18.750000</td>\n",
              "      <td>17.910000</td>\n",
              "      <td>14.796392</td>\n",
              "      <td>9625600</td>\n",
              "      <td>AXP</td>\n",
              "      <td>2</td>\n",
              "      <td>0.0</td>\n",
              "      <td>2.913038</td>\n",
              "      <td>2.448061</td>\n",
              "      <td>100.0</td>\n",
              "      <td>66.666667</td>\n",
              "      <td>100.0</td>\n",
              "      <td>14.796392</td>\n",
              "      <td>14.796392</td>\n",
              "      <td>0.0</td>\n",
              "    </tr>\n",
              "    <tr>\n",
              "      <th>3</th>\n",
              "      <td>2008-12-31</td>\n",
              "      <td>41.590000</td>\n",
              "      <td>43.049999</td>\n",
              "      <td>41.500000</td>\n",
              "      <td>32.005890</td>\n",
              "      <td>5443100</td>\n",
              "      <td>BA</td>\n",
              "      <td>2</td>\n",
              "      <td>0.0</td>\n",
              "      <td>2.913038</td>\n",
              "      <td>2.448061</td>\n",
              "      <td>100.0</td>\n",
              "      <td>66.666667</td>\n",
              "      <td>100.0</td>\n",
              "      <td>32.005890</td>\n",
              "      <td>32.005890</td>\n",
              "      <td>0.0</td>\n",
              "    </tr>\n",
              "    <tr>\n",
              "      <th>4</th>\n",
              "      <td>2008-12-31</td>\n",
              "      <td>43.700001</td>\n",
              "      <td>45.099998</td>\n",
              "      <td>43.700001</td>\n",
              "      <td>30.214802</td>\n",
              "      <td>6277400</td>\n",
              "      <td>CAT</td>\n",
              "      <td>2</td>\n",
              "      <td>0.0</td>\n",
              "      <td>2.913038</td>\n",
              "      <td>2.448061</td>\n",
              "      <td>100.0</td>\n",
              "      <td>66.666667</td>\n",
              "      <td>100.0</td>\n",
              "      <td>30.214802</td>\n",
              "      <td>30.214802</td>\n",
              "      <td>0.0</td>\n",
              "    </tr>\n",
              "  </tbody>\n",
              "</table>\n",
              "</div>\n",
              "      <button class=\"colab-df-convert\" onclick=\"convertToInteractive('df-47be33bb-7c62-41eb-ba78-d640c254c49c')\"\n",
              "              title=\"Convert this dataframe to an interactive table.\"\n",
              "              style=\"display:none;\">\n",
              "        \n",
              "  <svg xmlns=\"http://www.w3.org/2000/svg\" height=\"24px\"viewBox=\"0 0 24 24\"\n",
              "       width=\"24px\">\n",
              "    <path d=\"M0 0h24v24H0V0z\" fill=\"none\"/>\n",
              "    <path d=\"M18.56 5.44l.94 2.06.94-2.06 2.06-.94-2.06-.94-.94-2.06-.94 2.06-2.06.94zm-11 1L8.5 8.5l.94-2.06 2.06-.94-2.06-.94L8.5 2.5l-.94 2.06-2.06.94zm10 10l.94 2.06.94-2.06 2.06-.94-2.06-.94-.94-2.06-.94 2.06-2.06.94z\"/><path d=\"M17.41 7.96l-1.37-1.37c-.4-.4-.92-.59-1.43-.59-.52 0-1.04.2-1.43.59L10.3 9.45l-7.72 7.72c-.78.78-.78 2.05 0 2.83L4 21.41c.39.39.9.59 1.41.59.51 0 1.02-.2 1.41-.59l7.78-7.78 2.81-2.81c.8-.78.8-2.07 0-2.86zM5.41 20L4 18.59l7.72-7.72 1.47 1.35L5.41 20z\"/>\n",
              "  </svg>\n",
              "      </button>\n",
              "      \n",
              "  <style>\n",
              "    .colab-df-container {\n",
              "      display:flex;\n",
              "      flex-wrap:wrap;\n",
              "      gap: 12px;\n",
              "    }\n",
              "\n",
              "    .colab-df-convert {\n",
              "      background-color: #E8F0FE;\n",
              "      border: none;\n",
              "      border-radius: 50%;\n",
              "      cursor: pointer;\n",
              "      display: none;\n",
              "      fill: #1967D2;\n",
              "      height: 32px;\n",
              "      padding: 0 0 0 0;\n",
              "      width: 32px;\n",
              "    }\n",
              "\n",
              "    .colab-df-convert:hover {\n",
              "      background-color: #E2EBFA;\n",
              "      box-shadow: 0px 1px 2px rgba(60, 64, 67, 0.3), 0px 1px 3px 1px rgba(60, 64, 67, 0.15);\n",
              "      fill: #174EA6;\n",
              "    }\n",
              "\n",
              "    [theme=dark] .colab-df-convert {\n",
              "      background-color: #3B4455;\n",
              "      fill: #D2E3FC;\n",
              "    }\n",
              "\n",
              "    [theme=dark] .colab-df-convert:hover {\n",
              "      background-color: #434B5C;\n",
              "      box-shadow: 0px 1px 3px 1px rgba(0, 0, 0, 0.15);\n",
              "      filter: drop-shadow(0px 1px 2px rgba(0, 0, 0, 0.3));\n",
              "      fill: #FFFFFF;\n",
              "    }\n",
              "  </style>\n",
              "\n",
              "      <script>\n",
              "        const buttonEl =\n",
              "          document.querySelector('#df-47be33bb-7c62-41eb-ba78-d640c254c49c button.colab-df-convert');\n",
              "        buttonEl.style.display =\n",
              "          google.colab.kernel.accessAllowed ? 'block' : 'none';\n",
              "\n",
              "        async function convertToInteractive(key) {\n",
              "          const element = document.querySelector('#df-47be33bb-7c62-41eb-ba78-d640c254c49c');\n",
              "          const dataTable =\n",
              "            await google.colab.kernel.invokeFunction('convertToInteractive',\n",
              "                                                     [key], {});\n",
              "          if (!dataTable) return;\n",
              "\n",
              "          const docLinkHtml = 'Like what you see? Visit the ' +\n",
              "            '<a target=\"_blank\" href=https://colab.research.google.com/notebooks/data_table.ipynb>data table notebook</a>'\n",
              "            + ' to learn more about interactive tables.';\n",
              "          element.innerHTML = '';\n",
              "          dataTable['output_type'] = 'display_data';\n",
              "          await google.colab.output.renderOutput(dataTable, element);\n",
              "          const docLink = document.createElement('div');\n",
              "          docLink.innerHTML = docLinkHtml;\n",
              "          element.appendChild(docLink);\n",
              "        }\n",
              "      </script>\n",
              "    </div>\n",
              "  </div>\n",
              "  "
            ]
          },
          "metadata": {},
          "execution_count": 273
        }
      ]
    },
    {
      "cell_type": "code",
      "source": [
        "for tic_name in stock_df.tic.unique():\n",
        "    if tic_name not in processed_stock_df.tic.unique():\n",
        "        print(f\"Missing: {tic_name}\")"
      ],
      "metadata": {
        "colab": {
          "base_uri": "https://localhost:8080/"
        },
        "id": "tPw7arEy9mDK",
        "outputId": "8f3ecd5b-8614-4b51-93cc-cde57501e557"
      },
      "execution_count": null,
      "outputs": [
        {
          "output_type": "stream",
          "name": "stdout",
          "text": [
            "Missing: DOW\n"
          ]
        }
      ]
    },
    {
      "cell_type": "code",
      "source": [
        "# Generate a DataFrame with the Cartesian product of tickers and dates\n",
        "all_tickers = processed_stock_df['tic'].unique().tolist()\n",
        "all_dates = list(pd.date_range(processed_stock_df['date'].min(), processed_stock_df['date'].max()))\n",
        "comb = list(itertools.product(all_dates, all_tickers))\n",
        "full_df = pd.DataFrame(comb, columns=['date', 'tic'])\n",
        "\n",
        "# Merge with stock data\n",
        "full_df = full_df.merge(processed_stock_df, on=['date', 'tic'], how='left')\n",
        "\n",
        "# Merge with financial data\n",
        "full_df = full_df.merge(fr_df, on=['date', 'tic'], how='left')\n",
        "\n",
        "# Sort\n",
        "full_df = full_df.sort_values(['tic','date'])\n",
        "\n",
        "# Backfill \n",
        "full_df = full_df.bfill(axis='rows')"
      ],
      "metadata": {
        "id": "AJBOxc5m1kD8"
      },
      "execution_count": null,
      "outputs": []
    },
    {
      "cell_type": "code",
      "source": [
        "full_df.sort_values(['date','tic'],ignore_index=True).head(10)"
      ],
      "metadata": {
        "id": "qThEl0hV8ikd",
        "colab": {
          "base_uri": "https://localhost:8080/"
        },
        "outputId": "caccb134-af34-4315-bc42-f368de639f2a"
      },
      "execution_count": null,
      "outputs": [
        {
          "output_type": "execute_result",
          "data": {
            "text/plain": [
              "        date   tic       open       high        low      close       volume  \\\n",
              "0 2008-12-31  AAPL   3.070357   3.133571   3.047857   2.598352  607541200.0   \n",
              "1 2008-12-31  AMGN  57.110001  58.220001  57.060001  43.289665    6287200.0   \n",
              "2 2008-12-31   AXP  17.969999  18.750000  17.910000  14.796392    9625600.0   \n",
              "3 2008-12-31    BA  41.590000  43.049999  41.500000  32.005890    5443100.0   \n",
              "4 2008-12-31   CAT  43.700001  45.099998  43.700001  30.214802    6277400.0   \n",
              "5 2008-12-31   CRM   7.712500   8.130000   7.707500   8.002500    5367600.0   \n",
              "6 2008-12-31  CSCO  16.180000  16.549999  16.120001  11.575117   37513700.0   \n",
              "7 2008-12-31   CVX  72.900002  74.629997  72.900002  42.594913    9964300.0   \n",
              "8 2008-12-31   DIS  22.570000  22.950001  22.520000  19.538345    9012100.0   \n",
              "9 2008-12-31    GS  82.239998  86.150002  81.120003  67.842331   14894100.0   \n",
              "\n",
              "   day  macd   boll_ub  ...  pay_turn  sale_invcap  sale_equity  rd_sale  \\\n",
              "0  2.0   0.0  2.913038  ...     4.832        1.703        1.703    0.034   \n",
              "1  2.0   0.0  2.913038  ...     3.200        0.508        0.736    0.202   \n",
              "2  2.0   0.0  2.913038  ...     0.820        0.561        2.696    0.000   \n",
              "3  2.0   0.0  2.913038  ...     9.495       10.765        0.000    0.062   \n",
              "4  2.0   0.0  2.913038  ...     8.124        1.743        8.432    0.034   \n",
              "5  2.0   0.0  2.913038  ...    15.582        1.568        1.603    0.092   \n",
              "6  2.0   0.0  2.913038  ...    16.665        0.959        1.136    0.140   \n",
              "7  2.0   0.0  2.913038  ...    10.705        2.737        2.944    0.003   \n",
              "8  2.0   0.0  2.913038  ...     5.404        0.815        1.151    0.000   \n",
              "9  2.0   0.0  2.913038  ...    -0.287        0.213        0.832    0.000   \n",
              "\n",
              "   adv_sale  staff_sale  accrual       ptb  PEG_1yrforward  PEG_ltgforward  \n",
              "0     0.015       0.000   -0.150  4.004000       -0.607667        0.036000  \n",
              "1     0.005       0.000   -0.050  2.419667        6.997000        1.091667  \n",
              "2     0.000       0.191   -0.042  1.668000       -0.102333        0.667333  \n",
              "3     0.000       0.255    0.054  0.000000        0.318333        1.191333  \n",
              "4     0.000       0.177   -0.020  2.843333       -0.083333        0.561667  \n",
              "5     0.041       0.000   -0.145  6.932333        1.801667        2.989667  \n",
              "6     0.000       0.000   -0.085  2.864667       -0.780333        1.470000  \n",
              "7     0.000       0.000   -0.037  1.320667       -0.100333        0.665333  \n",
              "8     0.077       0.000   -0.016  1.003667       -0.387000        1.139667  \n",
              "9     0.000       0.204    0.000  1.624000        0.194667        3.055667  \n",
              "\n",
              "[10 rows x 73 columns]"
            ],
            "text/html": [
              "\n",
              "  <div id=\"df-c460a20a-b934-475f-9849-3178ec6cd276\">\n",
              "    <div class=\"colab-df-container\">\n",
              "      <div>\n",
              "<style scoped>\n",
              "    .dataframe tbody tr th:only-of-type {\n",
              "        vertical-align: middle;\n",
              "    }\n",
              "\n",
              "    .dataframe tbody tr th {\n",
              "        vertical-align: top;\n",
              "    }\n",
              "\n",
              "    .dataframe thead th {\n",
              "        text-align: right;\n",
              "    }\n",
              "</style>\n",
              "<table border=\"1\" class=\"dataframe\">\n",
              "  <thead>\n",
              "    <tr style=\"text-align: right;\">\n",
              "      <th></th>\n",
              "      <th>date</th>\n",
              "      <th>tic</th>\n",
              "      <th>open</th>\n",
              "      <th>high</th>\n",
              "      <th>low</th>\n",
              "      <th>close</th>\n",
              "      <th>volume</th>\n",
              "      <th>day</th>\n",
              "      <th>macd</th>\n",
              "      <th>boll_ub</th>\n",
              "      <th>...</th>\n",
              "      <th>pay_turn</th>\n",
              "      <th>sale_invcap</th>\n",
              "      <th>sale_equity</th>\n",
              "      <th>rd_sale</th>\n",
              "      <th>adv_sale</th>\n",
              "      <th>staff_sale</th>\n",
              "      <th>accrual</th>\n",
              "      <th>ptb</th>\n",
              "      <th>PEG_1yrforward</th>\n",
              "      <th>PEG_ltgforward</th>\n",
              "    </tr>\n",
              "  </thead>\n",
              "  <tbody>\n",
              "    <tr>\n",
              "      <th>0</th>\n",
              "      <td>2008-12-31</td>\n",
              "      <td>AAPL</td>\n",
              "      <td>3.070357</td>\n",
              "      <td>3.133571</td>\n",
              "      <td>3.047857</td>\n",
              "      <td>2.598352</td>\n",
              "      <td>607541200.0</td>\n",
              "      <td>2.0</td>\n",
              "      <td>0.0</td>\n",
              "      <td>2.913038</td>\n",
              "      <td>...</td>\n",
              "      <td>4.832</td>\n",
              "      <td>1.703</td>\n",
              "      <td>1.703</td>\n",
              "      <td>0.034</td>\n",
              "      <td>0.015</td>\n",
              "      <td>0.000</td>\n",
              "      <td>-0.150</td>\n",
              "      <td>4.004000</td>\n",
              "      <td>-0.607667</td>\n",
              "      <td>0.036000</td>\n",
              "    </tr>\n",
              "    <tr>\n",
              "      <th>1</th>\n",
              "      <td>2008-12-31</td>\n",
              "      <td>AMGN</td>\n",
              "      <td>57.110001</td>\n",
              "      <td>58.220001</td>\n",
              "      <td>57.060001</td>\n",
              "      <td>43.289665</td>\n",
              "      <td>6287200.0</td>\n",
              "      <td>2.0</td>\n",
              "      <td>0.0</td>\n",
              "      <td>2.913038</td>\n",
              "      <td>...</td>\n",
              "      <td>3.200</td>\n",
              "      <td>0.508</td>\n",
              "      <td>0.736</td>\n",
              "      <td>0.202</td>\n",
              "      <td>0.005</td>\n",
              "      <td>0.000</td>\n",
              "      <td>-0.050</td>\n",
              "      <td>2.419667</td>\n",
              "      <td>6.997000</td>\n",
              "      <td>1.091667</td>\n",
              "    </tr>\n",
              "    <tr>\n",
              "      <th>2</th>\n",
              "      <td>2008-12-31</td>\n",
              "      <td>AXP</td>\n",
              "      <td>17.969999</td>\n",
              "      <td>18.750000</td>\n",
              "      <td>17.910000</td>\n",
              "      <td>14.796392</td>\n",
              "      <td>9625600.0</td>\n",
              "      <td>2.0</td>\n",
              "      <td>0.0</td>\n",
              "      <td>2.913038</td>\n",
              "      <td>...</td>\n",
              "      <td>0.820</td>\n",
              "      <td>0.561</td>\n",
              "      <td>2.696</td>\n",
              "      <td>0.000</td>\n",
              "      <td>0.000</td>\n",
              "      <td>0.191</td>\n",
              "      <td>-0.042</td>\n",
              "      <td>1.668000</td>\n",
              "      <td>-0.102333</td>\n",
              "      <td>0.667333</td>\n",
              "    </tr>\n",
              "    <tr>\n",
              "      <th>3</th>\n",
              "      <td>2008-12-31</td>\n",
              "      <td>BA</td>\n",
              "      <td>41.590000</td>\n",
              "      <td>43.049999</td>\n",
              "      <td>41.500000</td>\n",
              "      <td>32.005890</td>\n",
              "      <td>5443100.0</td>\n",
              "      <td>2.0</td>\n",
              "      <td>0.0</td>\n",
              "      <td>2.913038</td>\n",
              "      <td>...</td>\n",
              "      <td>9.495</td>\n",
              "      <td>10.765</td>\n",
              "      <td>0.000</td>\n",
              "      <td>0.062</td>\n",
              "      <td>0.000</td>\n",
              "      <td>0.255</td>\n",
              "      <td>0.054</td>\n",
              "      <td>0.000000</td>\n",
              "      <td>0.318333</td>\n",
              "      <td>1.191333</td>\n",
              "    </tr>\n",
              "    <tr>\n",
              "      <th>4</th>\n",
              "      <td>2008-12-31</td>\n",
              "      <td>CAT</td>\n",
              "      <td>43.700001</td>\n",
              "      <td>45.099998</td>\n",
              "      <td>43.700001</td>\n",
              "      <td>30.214802</td>\n",
              "      <td>6277400.0</td>\n",
              "      <td>2.0</td>\n",
              "      <td>0.0</td>\n",
              "      <td>2.913038</td>\n",
              "      <td>...</td>\n",
              "      <td>8.124</td>\n",
              "      <td>1.743</td>\n",
              "      <td>8.432</td>\n",
              "      <td>0.034</td>\n",
              "      <td>0.000</td>\n",
              "      <td>0.177</td>\n",
              "      <td>-0.020</td>\n",
              "      <td>2.843333</td>\n",
              "      <td>-0.083333</td>\n",
              "      <td>0.561667</td>\n",
              "    </tr>\n",
              "    <tr>\n",
              "      <th>5</th>\n",
              "      <td>2008-12-31</td>\n",
              "      <td>CRM</td>\n",
              "      <td>7.712500</td>\n",
              "      <td>8.130000</td>\n",
              "      <td>7.707500</td>\n",
              "      <td>8.002500</td>\n",
              "      <td>5367600.0</td>\n",
              "      <td>2.0</td>\n",
              "      <td>0.0</td>\n",
              "      <td>2.913038</td>\n",
              "      <td>...</td>\n",
              "      <td>15.582</td>\n",
              "      <td>1.568</td>\n",
              "      <td>1.603</td>\n",
              "      <td>0.092</td>\n",
              "      <td>0.041</td>\n",
              "      <td>0.000</td>\n",
              "      <td>-0.145</td>\n",
              "      <td>6.932333</td>\n",
              "      <td>1.801667</td>\n",
              "      <td>2.989667</td>\n",
              "    </tr>\n",
              "    <tr>\n",
              "      <th>6</th>\n",
              "      <td>2008-12-31</td>\n",
              "      <td>CSCO</td>\n",
              "      <td>16.180000</td>\n",
              "      <td>16.549999</td>\n",
              "      <td>16.120001</td>\n",
              "      <td>11.575117</td>\n",
              "      <td>37513700.0</td>\n",
              "      <td>2.0</td>\n",
              "      <td>0.0</td>\n",
              "      <td>2.913038</td>\n",
              "      <td>...</td>\n",
              "      <td>16.665</td>\n",
              "      <td>0.959</td>\n",
              "      <td>1.136</td>\n",
              "      <td>0.140</td>\n",
              "      <td>0.000</td>\n",
              "      <td>0.000</td>\n",
              "      <td>-0.085</td>\n",
              "      <td>2.864667</td>\n",
              "      <td>-0.780333</td>\n",
              "      <td>1.470000</td>\n",
              "    </tr>\n",
              "    <tr>\n",
              "      <th>7</th>\n",
              "      <td>2008-12-31</td>\n",
              "      <td>CVX</td>\n",
              "      <td>72.900002</td>\n",
              "      <td>74.629997</td>\n",
              "      <td>72.900002</td>\n",
              "      <td>42.594913</td>\n",
              "      <td>9964300.0</td>\n",
              "      <td>2.0</td>\n",
              "      <td>0.0</td>\n",
              "      <td>2.913038</td>\n",
              "      <td>...</td>\n",
              "      <td>10.705</td>\n",
              "      <td>2.737</td>\n",
              "      <td>2.944</td>\n",
              "      <td>0.003</td>\n",
              "      <td>0.000</td>\n",
              "      <td>0.000</td>\n",
              "      <td>-0.037</td>\n",
              "      <td>1.320667</td>\n",
              "      <td>-0.100333</td>\n",
              "      <td>0.665333</td>\n",
              "    </tr>\n",
              "    <tr>\n",
              "      <th>8</th>\n",
              "      <td>2008-12-31</td>\n",
              "      <td>DIS</td>\n",
              "      <td>22.570000</td>\n",
              "      <td>22.950001</td>\n",
              "      <td>22.520000</td>\n",
              "      <td>19.538345</td>\n",
              "      <td>9012100.0</td>\n",
              "      <td>2.0</td>\n",
              "      <td>0.0</td>\n",
              "      <td>2.913038</td>\n",
              "      <td>...</td>\n",
              "      <td>5.404</td>\n",
              "      <td>0.815</td>\n",
              "      <td>1.151</td>\n",
              "      <td>0.000</td>\n",
              "      <td>0.077</td>\n",
              "      <td>0.000</td>\n",
              "      <td>-0.016</td>\n",
              "      <td>1.003667</td>\n",
              "      <td>-0.387000</td>\n",
              "      <td>1.139667</td>\n",
              "    </tr>\n",
              "    <tr>\n",
              "      <th>9</th>\n",
              "      <td>2008-12-31</td>\n",
              "      <td>GS</td>\n",
              "      <td>82.239998</td>\n",
              "      <td>86.150002</td>\n",
              "      <td>81.120003</td>\n",
              "      <td>67.842331</td>\n",
              "      <td>14894100.0</td>\n",
              "      <td>2.0</td>\n",
              "      <td>0.0</td>\n",
              "      <td>2.913038</td>\n",
              "      <td>...</td>\n",
              "      <td>-0.287</td>\n",
              "      <td>0.213</td>\n",
              "      <td>0.832</td>\n",
              "      <td>0.000</td>\n",
              "      <td>0.000</td>\n",
              "      <td>0.204</td>\n",
              "      <td>0.000</td>\n",
              "      <td>1.624000</td>\n",
              "      <td>0.194667</td>\n",
              "      <td>3.055667</td>\n",
              "    </tr>\n",
              "  </tbody>\n",
              "</table>\n",
              "<p>10 rows × 73 columns</p>\n",
              "</div>\n",
              "      <button class=\"colab-df-convert\" onclick=\"convertToInteractive('df-c460a20a-b934-475f-9849-3178ec6cd276')\"\n",
              "              title=\"Convert this dataframe to an interactive table.\"\n",
              "              style=\"display:none;\">\n",
              "        \n",
              "  <svg xmlns=\"http://www.w3.org/2000/svg\" height=\"24px\"viewBox=\"0 0 24 24\"\n",
              "       width=\"24px\">\n",
              "    <path d=\"M0 0h24v24H0V0z\" fill=\"none\"/>\n",
              "    <path d=\"M18.56 5.44l.94 2.06.94-2.06 2.06-.94-2.06-.94-.94-2.06-.94 2.06-2.06.94zm-11 1L8.5 8.5l.94-2.06 2.06-.94-2.06-.94L8.5 2.5l-.94 2.06-2.06.94zm10 10l.94 2.06.94-2.06 2.06-.94-2.06-.94-.94-2.06-.94 2.06-2.06.94z\"/><path d=\"M17.41 7.96l-1.37-1.37c-.4-.4-.92-.59-1.43-.59-.52 0-1.04.2-1.43.59L10.3 9.45l-7.72 7.72c-.78.78-.78 2.05 0 2.83L4 21.41c.39.39.9.59 1.41.59.51 0 1.02-.2 1.41-.59l7.78-7.78 2.81-2.81c.8-.78.8-2.07 0-2.86zM5.41 20L4 18.59l7.72-7.72 1.47 1.35L5.41 20z\"/>\n",
              "  </svg>\n",
              "      </button>\n",
              "      \n",
              "  <style>\n",
              "    .colab-df-container {\n",
              "      display:flex;\n",
              "      flex-wrap:wrap;\n",
              "      gap: 12px;\n",
              "    }\n",
              "\n",
              "    .colab-df-convert {\n",
              "      background-color: #E8F0FE;\n",
              "      border: none;\n",
              "      border-radius: 50%;\n",
              "      cursor: pointer;\n",
              "      display: none;\n",
              "      fill: #1967D2;\n",
              "      height: 32px;\n",
              "      padding: 0 0 0 0;\n",
              "      width: 32px;\n",
              "    }\n",
              "\n",
              "    .colab-df-convert:hover {\n",
              "      background-color: #E2EBFA;\n",
              "      box-shadow: 0px 1px 2px rgba(60, 64, 67, 0.3), 0px 1px 3px 1px rgba(60, 64, 67, 0.15);\n",
              "      fill: #174EA6;\n",
              "    }\n",
              "\n",
              "    [theme=dark] .colab-df-convert {\n",
              "      background-color: #3B4455;\n",
              "      fill: #D2E3FC;\n",
              "    }\n",
              "\n",
              "    [theme=dark] .colab-df-convert:hover {\n",
              "      background-color: #434B5C;\n",
              "      box-shadow: 0px 1px 3px 1px rgba(0, 0, 0, 0.15);\n",
              "      filter: drop-shadow(0px 1px 2px rgba(0, 0, 0, 0.3));\n",
              "      fill: #FFFFFF;\n",
              "    }\n",
              "  </style>\n",
              "\n",
              "      <script>\n",
              "        const buttonEl =\n",
              "          document.querySelector('#df-c460a20a-b934-475f-9849-3178ec6cd276 button.colab-df-convert');\n",
              "        buttonEl.style.display =\n",
              "          google.colab.kernel.accessAllowed ? 'block' : 'none';\n",
              "\n",
              "        async function convertToInteractive(key) {\n",
              "          const element = document.querySelector('#df-c460a20a-b934-475f-9849-3178ec6cd276');\n",
              "          const dataTable =\n",
              "            await google.colab.kernel.invokeFunction('convertToInteractive',\n",
              "                                                     [key], {});\n",
              "          if (!dataTable) return;\n",
              "\n",
              "          const docLinkHtml = 'Like what you see? Visit the ' +\n",
              "            '<a target=\"_blank\" href=https://colab.research.google.com/notebooks/data_table.ipynb>data table notebook</a>'\n",
              "            + ' to learn more about interactive tables.';\n",
              "          element.innerHTML = '';\n",
              "          dataTable['output_type'] = 'display_data';\n",
              "          await google.colab.output.renderOutput(dataTable, element);\n",
              "          const docLink = document.createElement('div');\n",
              "          docLink.innerHTML = docLinkHtml;\n",
              "          element.appendChild(docLink);\n",
              "        }\n",
              "      </script>\n",
              "    </div>\n",
              "  </div>\n",
              "  "
            ]
          },
          "metadata": {},
          "execution_count": 276
        }
      ]
    },
    {
      "cell_type": "code",
      "source": [
        "full_df.columns.values"
      ],
      "metadata": {
        "colab": {
          "base_uri": "https://localhost:8080/"
        },
        "id": "egMTxALqv_My",
        "outputId": "eca01e1e-871b-455b-fbfb-471e0e17909a"
      },
      "execution_count": null,
      "outputs": [
        {
          "output_type": "execute_result",
          "data": {
            "text/plain": [
              "array(['date', 'tic', 'open', 'high', 'low', 'close', 'volume', 'day',\n",
              "       'macd', 'boll_ub', 'boll_lb', 'rsi_30', 'cci_30', 'dx_30',\n",
              "       'close_30_sma', 'close_60_sma', 'turbulence', 'CAPEI', 'bm', 'evm',\n",
              "       'pe_op_basic', 'pe_op_dil', 'pe_exi', 'pe_inc', 'ps', 'pcf', 'dpr',\n",
              "       'npm', 'opmbd', 'opmad', 'gpm', 'ptpm', 'cfm', 'roa', 'roe',\n",
              "       'roce', 'efftax', 'aftret_eq', 'aftret_invcapx', 'aftret_equity',\n",
              "       'GProf', 'equity_invcap', 'debt_invcap', 'totdebt_invcap',\n",
              "       'capital_ratio', 'int_debt', 'int_totdebt', 'cash_lt', 'debt_at',\n",
              "       'debt_ebitda', 'short_debt', 'lt_debt', 'cash_debt', 'fcf_ocf',\n",
              "       'lt_ppent', 'dltt_be', 'debt_assets', 'debt_capital', 'de_ratio',\n",
              "       'intcov', 'intcov_ratio', 'at_turn', 'rect_turn', 'pay_turn',\n",
              "       'sale_invcap', 'sale_equity', 'rd_sale', 'adv_sale', 'staff_sale',\n",
              "       'accrual', 'ptb', 'PEG_1yrforward', 'PEG_ltgforward'], dtype=object)"
            ]
          },
          "metadata": {},
          "execution_count": 277
        }
      ]
    },
    {
      "cell_type": "code",
      "source": [
        "len(full_df.columns.values)"
      ],
      "metadata": {
        "colab": {
          "base_uri": "https://localhost:8080/"
        },
        "id": "59xNuUQKwODn",
        "outputId": "580f632d-3944-404e-99c6-a3996cdec29f"
      },
      "execution_count": null,
      "outputs": [
        {
          "output_type": "execute_result",
          "data": {
            "text/plain": [
              "73"
            ]
          },
          "metadata": {},
          "execution_count": 278
        }
      ]
    },
    {
      "cell_type": "code",
      "source": [
        "len(full_df.tic.unique())"
      ],
      "metadata": {
        "colab": {
          "base_uri": "https://localhost:8080/"
        },
        "id": "VC1WW2z29H0m",
        "outputId": "1101e30b-b53f-4e26-dd2b-2c3449c61165"
      },
      "execution_count": null,
      "outputs": [
        {
          "output_type": "execute_result",
          "data": {
            "text/plain": [
              "29"
            ]
          },
          "metadata": {},
          "execution_count": 279
        }
      ]
    },
    {
      "cell_type": "markdown",
      "metadata": {
        "id": "5TOhcryx44bb"
      },
      "source": [
        "## 5.1 Data Split\n",
        "- Training data period: 2009-01-01 to 2019-01-01\n",
        "- Trade data period: 2019-01-01 to 2020-12-31"
      ]
    },
    {
      "cell_type": "code",
      "execution_count": null,
      "metadata": {
        "colab": {
          "base_uri": "https://localhost:8080/"
        },
        "id": "W0qaVGjLtgbI",
        "outputId": "e5ea811d-1596-46c1-dfbe-0979aeb8a71e"
      },
      "outputs": [
        {
          "output_type": "stream",
          "name": "stdout",
          "text": [
            "69542\n",
            "12354\n"
          ]
        }
      ],
      "source": [
        "train_data = data_split(full_df, TRAIN_START_DATE, TRAIN_END_DATE)\n",
        "trade_data = data_split(full_df, TEST_START_DATE, TEST_END_DATE)\n",
        "# Check the length of the two datasets\n",
        "print(len(train_data))\n",
        "print(len(trade_data))"
      ]
    },
    {
      "cell_type": "code",
      "execution_count": null,
      "metadata": {
        "colab": {
          "base_uri": "https://localhost:8080/",
          "height": 386
        },
        "id": "p52zNCOhTtLR",
        "outputId": "664e1063-b71d-44a1-dd04-e916316ec40d"
      },
      "outputs": [
        {
          "output_type": "execute_result",
          "data": {
            "text/plain": [
              "        date   tic        open        high         low       close  \\\n",
              "0 2014-01-06  AAPL   19.194643   19.528570   19.057142   17.125866   \n",
              "0 2014-01-06  AMGN  114.470001  114.919998  113.120003   89.227142   \n",
              "0 2014-01-06   AXP   89.699997   90.250000   89.379997   78.685356   \n",
              "0 2014-01-06    BA  139.399994  139.759995  137.800003  118.295074   \n",
              "0 2014-01-06   CAT   90.190002   90.300003   88.379997   68.561165   \n",
              "\n",
              "        volume  day      macd     boll_ub  ...  pay_turn  sale_invcap  \\\n",
              "0  412610800.0  0.0  0.084480   18.054952  ...     4.743        1.247   \n",
              "0    2838100.0  0.0  0.190122   91.220101  ...     2.524        0.384   \n",
              "0    2844700.0  0.0  1.514973   80.592795  ...     0.435        0.498   \n",
              "0    4196500.0  0.0  1.134662  118.791166  ...     7.375        4.463   \n",
              "0    5233900.0  0.0  1.059910   71.574041  ...     5.432        1.222   \n",
              "\n",
              "   sale_equity  rd_sale  adv_sale  staff_sale  accrual       ptb  \\\n",
              "0        1.417    0.029     0.006       0.000   -0.079  3.996000   \n",
              "0        0.870    0.223     0.000       0.000   -0.028  4.023000   \n",
              "0        1.809    0.000     0.000       0.177    0.008  4.828667   \n",
              "0        7.691    0.036     0.000       0.000   -0.047  6.387333   \n",
              "0        2.899    0.036     0.000       0.197   -0.079  3.193667   \n",
              "\n",
              "   PEG_1yrforward  PEG_ltgforward  \n",
              "0        0.049000        0.040333  \n",
              "0        3.011667        2.564333  \n",
              "0        1.644333        1.833667  \n",
              "0        2.712333        2.130000  \n",
              "0        2.291667        1.379333  \n",
              "\n",
              "[5 rows x 73 columns]"
            ],
            "text/html": [
              "\n",
              "  <div id=\"df-6e194dcb-caa8-4585-8a8a-9c10ab67fcc0\">\n",
              "    <div class=\"colab-df-container\">\n",
              "      <div>\n",
              "<style scoped>\n",
              "    .dataframe tbody tr th:only-of-type {\n",
              "        vertical-align: middle;\n",
              "    }\n",
              "\n",
              "    .dataframe tbody tr th {\n",
              "        vertical-align: top;\n",
              "    }\n",
              "\n",
              "    .dataframe thead th {\n",
              "        text-align: right;\n",
              "    }\n",
              "</style>\n",
              "<table border=\"1\" class=\"dataframe\">\n",
              "  <thead>\n",
              "    <tr style=\"text-align: right;\">\n",
              "      <th></th>\n",
              "      <th>date</th>\n",
              "      <th>tic</th>\n",
              "      <th>open</th>\n",
              "      <th>high</th>\n",
              "      <th>low</th>\n",
              "      <th>close</th>\n",
              "      <th>volume</th>\n",
              "      <th>day</th>\n",
              "      <th>macd</th>\n",
              "      <th>boll_ub</th>\n",
              "      <th>...</th>\n",
              "      <th>pay_turn</th>\n",
              "      <th>sale_invcap</th>\n",
              "      <th>sale_equity</th>\n",
              "      <th>rd_sale</th>\n",
              "      <th>adv_sale</th>\n",
              "      <th>staff_sale</th>\n",
              "      <th>accrual</th>\n",
              "      <th>ptb</th>\n",
              "      <th>PEG_1yrforward</th>\n",
              "      <th>PEG_ltgforward</th>\n",
              "    </tr>\n",
              "  </thead>\n",
              "  <tbody>\n",
              "    <tr>\n",
              "      <th>0</th>\n",
              "      <td>2014-01-06</td>\n",
              "      <td>AAPL</td>\n",
              "      <td>19.194643</td>\n",
              "      <td>19.528570</td>\n",
              "      <td>19.057142</td>\n",
              "      <td>17.125866</td>\n",
              "      <td>412610800.0</td>\n",
              "      <td>0.0</td>\n",
              "      <td>0.084480</td>\n",
              "      <td>18.054952</td>\n",
              "      <td>...</td>\n",
              "      <td>4.743</td>\n",
              "      <td>1.247</td>\n",
              "      <td>1.417</td>\n",
              "      <td>0.029</td>\n",
              "      <td>0.006</td>\n",
              "      <td>0.000</td>\n",
              "      <td>-0.079</td>\n",
              "      <td>3.996000</td>\n",
              "      <td>0.049000</td>\n",
              "      <td>0.040333</td>\n",
              "    </tr>\n",
              "    <tr>\n",
              "      <th>0</th>\n",
              "      <td>2014-01-06</td>\n",
              "      <td>AMGN</td>\n",
              "      <td>114.470001</td>\n",
              "      <td>114.919998</td>\n",
              "      <td>113.120003</td>\n",
              "      <td>89.227142</td>\n",
              "      <td>2838100.0</td>\n",
              "      <td>0.0</td>\n",
              "      <td>0.190122</td>\n",
              "      <td>91.220101</td>\n",
              "      <td>...</td>\n",
              "      <td>2.524</td>\n",
              "      <td>0.384</td>\n",
              "      <td>0.870</td>\n",
              "      <td>0.223</td>\n",
              "      <td>0.000</td>\n",
              "      <td>0.000</td>\n",
              "      <td>-0.028</td>\n",
              "      <td>4.023000</td>\n",
              "      <td>3.011667</td>\n",
              "      <td>2.564333</td>\n",
              "    </tr>\n",
              "    <tr>\n",
              "      <th>0</th>\n",
              "      <td>2014-01-06</td>\n",
              "      <td>AXP</td>\n",
              "      <td>89.699997</td>\n",
              "      <td>90.250000</td>\n",
              "      <td>89.379997</td>\n",
              "      <td>78.685356</td>\n",
              "      <td>2844700.0</td>\n",
              "      <td>0.0</td>\n",
              "      <td>1.514973</td>\n",
              "      <td>80.592795</td>\n",
              "      <td>...</td>\n",
              "      <td>0.435</td>\n",
              "      <td>0.498</td>\n",
              "      <td>1.809</td>\n",
              "      <td>0.000</td>\n",
              "      <td>0.000</td>\n",
              "      <td>0.177</td>\n",
              "      <td>0.008</td>\n",
              "      <td>4.828667</td>\n",
              "      <td>1.644333</td>\n",
              "      <td>1.833667</td>\n",
              "    </tr>\n",
              "    <tr>\n",
              "      <th>0</th>\n",
              "      <td>2014-01-06</td>\n",
              "      <td>BA</td>\n",
              "      <td>139.399994</td>\n",
              "      <td>139.759995</td>\n",
              "      <td>137.800003</td>\n",
              "      <td>118.295074</td>\n",
              "      <td>4196500.0</td>\n",
              "      <td>0.0</td>\n",
              "      <td>1.134662</td>\n",
              "      <td>118.791166</td>\n",
              "      <td>...</td>\n",
              "      <td>7.375</td>\n",
              "      <td>4.463</td>\n",
              "      <td>7.691</td>\n",
              "      <td>0.036</td>\n",
              "      <td>0.000</td>\n",
              "      <td>0.000</td>\n",
              "      <td>-0.047</td>\n",
              "      <td>6.387333</td>\n",
              "      <td>2.712333</td>\n",
              "      <td>2.130000</td>\n",
              "    </tr>\n",
              "    <tr>\n",
              "      <th>0</th>\n",
              "      <td>2014-01-06</td>\n",
              "      <td>CAT</td>\n",
              "      <td>90.190002</td>\n",
              "      <td>90.300003</td>\n",
              "      <td>88.379997</td>\n",
              "      <td>68.561165</td>\n",
              "      <td>5233900.0</td>\n",
              "      <td>0.0</td>\n",
              "      <td>1.059910</td>\n",
              "      <td>71.574041</td>\n",
              "      <td>...</td>\n",
              "      <td>5.432</td>\n",
              "      <td>1.222</td>\n",
              "      <td>2.899</td>\n",
              "      <td>0.036</td>\n",
              "      <td>0.000</td>\n",
              "      <td>0.197</td>\n",
              "      <td>-0.079</td>\n",
              "      <td>3.193667</td>\n",
              "      <td>2.291667</td>\n",
              "      <td>1.379333</td>\n",
              "    </tr>\n",
              "  </tbody>\n",
              "</table>\n",
              "<p>5 rows × 73 columns</p>\n",
              "</div>\n",
              "      <button class=\"colab-df-convert\" onclick=\"convertToInteractive('df-6e194dcb-caa8-4585-8a8a-9c10ab67fcc0')\"\n",
              "              title=\"Convert this dataframe to an interactive table.\"\n",
              "              style=\"display:none;\">\n",
              "        \n",
              "  <svg xmlns=\"http://www.w3.org/2000/svg\" height=\"24px\"viewBox=\"0 0 24 24\"\n",
              "       width=\"24px\">\n",
              "    <path d=\"M0 0h24v24H0V0z\" fill=\"none\"/>\n",
              "    <path d=\"M18.56 5.44l.94 2.06.94-2.06 2.06-.94-2.06-.94-.94-2.06-.94 2.06-2.06.94zm-11 1L8.5 8.5l.94-2.06 2.06-.94-2.06-.94L8.5 2.5l-.94 2.06-2.06.94zm10 10l.94 2.06.94-2.06 2.06-.94-2.06-.94-.94-2.06-.94 2.06-2.06.94z\"/><path d=\"M17.41 7.96l-1.37-1.37c-.4-.4-.92-.59-1.43-.59-.52 0-1.04.2-1.43.59L10.3 9.45l-7.72 7.72c-.78.78-.78 2.05 0 2.83L4 21.41c.39.39.9.59 1.41.59.51 0 1.02-.2 1.41-.59l7.78-7.78 2.81-2.81c.8-.78.8-2.07 0-2.86zM5.41 20L4 18.59l7.72-7.72 1.47 1.35L5.41 20z\"/>\n",
              "  </svg>\n",
              "      </button>\n",
              "      \n",
              "  <style>\n",
              "    .colab-df-container {\n",
              "      display:flex;\n",
              "      flex-wrap:wrap;\n",
              "      gap: 12px;\n",
              "    }\n",
              "\n",
              "    .colab-df-convert {\n",
              "      background-color: #E8F0FE;\n",
              "      border: none;\n",
              "      border-radius: 50%;\n",
              "      cursor: pointer;\n",
              "      display: none;\n",
              "      fill: #1967D2;\n",
              "      height: 32px;\n",
              "      padding: 0 0 0 0;\n",
              "      width: 32px;\n",
              "    }\n",
              "\n",
              "    .colab-df-convert:hover {\n",
              "      background-color: #E2EBFA;\n",
              "      box-shadow: 0px 1px 2px rgba(60, 64, 67, 0.3), 0px 1px 3px 1px rgba(60, 64, 67, 0.15);\n",
              "      fill: #174EA6;\n",
              "    }\n",
              "\n",
              "    [theme=dark] .colab-df-convert {\n",
              "      background-color: #3B4455;\n",
              "      fill: #D2E3FC;\n",
              "    }\n",
              "\n",
              "    [theme=dark] .colab-df-convert:hover {\n",
              "      background-color: #434B5C;\n",
              "      box-shadow: 0px 1px 3px 1px rgba(0, 0, 0, 0.15);\n",
              "      filter: drop-shadow(0px 1px 2px rgba(0, 0, 0, 0.3));\n",
              "      fill: #FFFFFF;\n",
              "    }\n",
              "  </style>\n",
              "\n",
              "      <script>\n",
              "        const buttonEl =\n",
              "          document.querySelector('#df-6e194dcb-caa8-4585-8a8a-9c10ab67fcc0 button.colab-df-convert');\n",
              "        buttonEl.style.display =\n",
              "          google.colab.kernel.accessAllowed ? 'block' : 'none';\n",
              "\n",
              "        async function convertToInteractive(key) {\n",
              "          const element = document.querySelector('#df-6e194dcb-caa8-4585-8a8a-9c10ab67fcc0');\n",
              "          const dataTable =\n",
              "            await google.colab.kernel.invokeFunction('convertToInteractive',\n",
              "                                                     [key], {});\n",
              "          if (!dataTable) return;\n",
              "\n",
              "          const docLinkHtml = 'Like what you see? Visit the ' +\n",
              "            '<a target=\"_blank\" href=https://colab.research.google.com/notebooks/data_table.ipynb>data table notebook</a>'\n",
              "            + ' to learn more about interactive tables.';\n",
              "          element.innerHTML = '';\n",
              "          dataTable['output_type'] = 'display_data';\n",
              "          await google.colab.output.renderOutput(dataTable, element);\n",
              "          const docLink = document.createElement('div');\n",
              "          docLink.innerHTML = docLinkHtml;\n",
              "          element.appendChild(docLink);\n",
              "        }\n",
              "      </script>\n",
              "    </div>\n",
              "  </div>\n",
              "  "
            ]
          },
          "metadata": {},
          "execution_count": 281
        }
      ],
      "source": [
        "train_data.head()"
      ]
    },
    {
      "cell_type": "code",
      "source": [
        "train_data.columns.values"
      ],
      "metadata": {
        "colab": {
          "base_uri": "https://localhost:8080/"
        },
        "id": "vMGUBBzQBC3j",
        "outputId": "f20500ac-f940-413d-c98d-35fb159e7c61"
      },
      "execution_count": null,
      "outputs": [
        {
          "output_type": "execute_result",
          "data": {
            "text/plain": [
              "array(['date', 'tic', 'open', 'high', 'low', 'close', 'volume', 'day',\n",
              "       'macd', 'boll_ub', 'boll_lb', 'rsi_30', 'cci_30', 'dx_30',\n",
              "       'close_30_sma', 'close_60_sma', 'turbulence', 'CAPEI', 'bm', 'evm',\n",
              "       'pe_op_basic', 'pe_op_dil', 'pe_exi', 'pe_inc', 'ps', 'pcf', 'dpr',\n",
              "       'npm', 'opmbd', 'opmad', 'gpm', 'ptpm', 'cfm', 'roa', 'roe',\n",
              "       'roce', 'efftax', 'aftret_eq', 'aftret_invcapx', 'aftret_equity',\n",
              "       'GProf', 'equity_invcap', 'debt_invcap', 'totdebt_invcap',\n",
              "       'capital_ratio', 'int_debt', 'int_totdebt', 'cash_lt', 'debt_at',\n",
              "       'debt_ebitda', 'short_debt', 'lt_debt', 'cash_debt', 'fcf_ocf',\n",
              "       'lt_ppent', 'dltt_be', 'debt_assets', 'debt_capital', 'de_ratio',\n",
              "       'intcov', 'intcov_ratio', 'at_turn', 'rect_turn', 'pay_turn',\n",
              "       'sale_invcap', 'sale_equity', 'rd_sale', 'adv_sale', 'staff_sale',\n",
              "       'accrual', 'ptb', 'PEG_1yrforward', 'PEG_ltgforward'], dtype=object)"
            ]
          },
          "metadata": {},
          "execution_count": 282
        }
      ]
    },
    {
      "cell_type": "code",
      "execution_count": null,
      "metadata": {
        "colab": {
          "base_uri": "https://localhost:8080/",
          "height": 386
        },
        "id": "k9zU9YaTTvFq",
        "outputId": "0e15035d-b547-4f52-a9b3-7aa6c5c28f36"
      },
      "outputs": [
        {
          "output_type": "execute_result",
          "data": {
            "text/plain": [
              "        date   tic        open        high         low       close  \\\n",
              "0 2020-08-01  AAPL  108.199997  111.637497  107.892502  107.266502   \n",
              "0 2020-08-01  AMGN  244.850006  249.020004  244.529999  229.484116   \n",
              "0 2020-08-01   AXP   93.309998   94.400002   92.440002   90.898560   \n",
              "0 2020-08-01    BA  156.509995  163.580002  153.410004  162.270004   \n",
              "0 2020-08-01   CAT  132.300003  133.000000  131.100006  125.353134   \n",
              "\n",
              "        volume  day      macd     boll_ub  ...  pay_turn  sale_invcap  \\\n",
              "0  308151200.0  0.0  3.166571  103.299576  ...     3.580        1.592   \n",
              "0    1853900.0  0.0  1.846089  242.161453  ...     2.457        0.600   \n",
              "0    2869000.0  0.0 -0.468254   95.370092  ...     0.387        0.588   \n",
              "0   38520500.0  0.0 -4.022719  188.746996  ...     4.776        1.963   \n",
              "0    2851100.0  0.0  2.364296  136.737679  ...     4.942        1.080   \n",
              "\n",
              "   sale_equity  rd_sale  adv_sale  staff_sale  accrual        ptb  \\\n",
              "0        4.201    0.068     0.000       0.000   -0.070  31.659333   \n",
              "0        2.451    0.172     0.034       0.000   -0.056  11.993333   \n",
              "0        1.867    0.000     0.000       0.126   -0.010   4.366000   \n",
              "0        0.000    0.041     0.000       0.000    0.083   0.000000   \n",
              "0        3.039    0.033     0.000       0.000   -0.044   6.522667   \n",
              "\n",
              "   PEG_1yrforward  PEG_ltgforward  \n",
              "0        1.845000        3.061667  \n",
              "0        2.047667        3.108667  \n",
              "0       -0.493333        3.361000  \n",
              "0       -0.160000        0.000000  \n",
              "0       -0.589667      -12.187000  \n",
              "\n",
              "[5 rows x 73 columns]"
            ],
            "text/html": [
              "\n",
              "  <div id=\"df-0f9ac0ea-ef85-4fa3-b11a-2b09e5d75f1b\">\n",
              "    <div class=\"colab-df-container\">\n",
              "      <div>\n",
              "<style scoped>\n",
              "    .dataframe tbody tr th:only-of-type {\n",
              "        vertical-align: middle;\n",
              "    }\n",
              "\n",
              "    .dataframe tbody tr th {\n",
              "        vertical-align: top;\n",
              "    }\n",
              "\n",
              "    .dataframe thead th {\n",
              "        text-align: right;\n",
              "    }\n",
              "</style>\n",
              "<table border=\"1\" class=\"dataframe\">\n",
              "  <thead>\n",
              "    <tr style=\"text-align: right;\">\n",
              "      <th></th>\n",
              "      <th>date</th>\n",
              "      <th>tic</th>\n",
              "      <th>open</th>\n",
              "      <th>high</th>\n",
              "      <th>low</th>\n",
              "      <th>close</th>\n",
              "      <th>volume</th>\n",
              "      <th>day</th>\n",
              "      <th>macd</th>\n",
              "      <th>boll_ub</th>\n",
              "      <th>...</th>\n",
              "      <th>pay_turn</th>\n",
              "      <th>sale_invcap</th>\n",
              "      <th>sale_equity</th>\n",
              "      <th>rd_sale</th>\n",
              "      <th>adv_sale</th>\n",
              "      <th>staff_sale</th>\n",
              "      <th>accrual</th>\n",
              "      <th>ptb</th>\n",
              "      <th>PEG_1yrforward</th>\n",
              "      <th>PEG_ltgforward</th>\n",
              "    </tr>\n",
              "  </thead>\n",
              "  <tbody>\n",
              "    <tr>\n",
              "      <th>0</th>\n",
              "      <td>2020-08-01</td>\n",
              "      <td>AAPL</td>\n",
              "      <td>108.199997</td>\n",
              "      <td>111.637497</td>\n",
              "      <td>107.892502</td>\n",
              "      <td>107.266502</td>\n",
              "      <td>308151200.0</td>\n",
              "      <td>0.0</td>\n",
              "      <td>3.166571</td>\n",
              "      <td>103.299576</td>\n",
              "      <td>...</td>\n",
              "      <td>3.580</td>\n",
              "      <td>1.592</td>\n",
              "      <td>4.201</td>\n",
              "      <td>0.068</td>\n",
              "      <td>0.000</td>\n",
              "      <td>0.000</td>\n",
              "      <td>-0.070</td>\n",
              "      <td>31.659333</td>\n",
              "      <td>1.845000</td>\n",
              "      <td>3.061667</td>\n",
              "    </tr>\n",
              "    <tr>\n",
              "      <th>0</th>\n",
              "      <td>2020-08-01</td>\n",
              "      <td>AMGN</td>\n",
              "      <td>244.850006</td>\n",
              "      <td>249.020004</td>\n",
              "      <td>244.529999</td>\n",
              "      <td>229.484116</td>\n",
              "      <td>1853900.0</td>\n",
              "      <td>0.0</td>\n",
              "      <td>1.846089</td>\n",
              "      <td>242.161453</td>\n",
              "      <td>...</td>\n",
              "      <td>2.457</td>\n",
              "      <td>0.600</td>\n",
              "      <td>2.451</td>\n",
              "      <td>0.172</td>\n",
              "      <td>0.034</td>\n",
              "      <td>0.000</td>\n",
              "      <td>-0.056</td>\n",
              "      <td>11.993333</td>\n",
              "      <td>2.047667</td>\n",
              "      <td>3.108667</td>\n",
              "    </tr>\n",
              "    <tr>\n",
              "      <th>0</th>\n",
              "      <td>2020-08-01</td>\n",
              "      <td>AXP</td>\n",
              "      <td>93.309998</td>\n",
              "      <td>94.400002</td>\n",
              "      <td>92.440002</td>\n",
              "      <td>90.898560</td>\n",
              "      <td>2869000.0</td>\n",
              "      <td>0.0</td>\n",
              "      <td>-0.468254</td>\n",
              "      <td>95.370092</td>\n",
              "      <td>...</td>\n",
              "      <td>0.387</td>\n",
              "      <td>0.588</td>\n",
              "      <td>1.867</td>\n",
              "      <td>0.000</td>\n",
              "      <td>0.000</td>\n",
              "      <td>0.126</td>\n",
              "      <td>-0.010</td>\n",
              "      <td>4.366000</td>\n",
              "      <td>-0.493333</td>\n",
              "      <td>3.361000</td>\n",
              "    </tr>\n",
              "    <tr>\n",
              "      <th>0</th>\n",
              "      <td>2020-08-01</td>\n",
              "      <td>BA</td>\n",
              "      <td>156.509995</td>\n",
              "      <td>163.580002</td>\n",
              "      <td>153.410004</td>\n",
              "      <td>162.270004</td>\n",
              "      <td>38520500.0</td>\n",
              "      <td>0.0</td>\n",
              "      <td>-4.022719</td>\n",
              "      <td>188.746996</td>\n",
              "      <td>...</td>\n",
              "      <td>4.776</td>\n",
              "      <td>1.963</td>\n",
              "      <td>0.000</td>\n",
              "      <td>0.041</td>\n",
              "      <td>0.000</td>\n",
              "      <td>0.000</td>\n",
              "      <td>0.083</td>\n",
              "      <td>0.000000</td>\n",
              "      <td>-0.160000</td>\n",
              "      <td>0.000000</td>\n",
              "    </tr>\n",
              "    <tr>\n",
              "      <th>0</th>\n",
              "      <td>2020-08-01</td>\n",
              "      <td>CAT</td>\n",
              "      <td>132.300003</td>\n",
              "      <td>133.000000</td>\n",
              "      <td>131.100006</td>\n",
              "      <td>125.353134</td>\n",
              "      <td>2851100.0</td>\n",
              "      <td>0.0</td>\n",
              "      <td>2.364296</td>\n",
              "      <td>136.737679</td>\n",
              "      <td>...</td>\n",
              "      <td>4.942</td>\n",
              "      <td>1.080</td>\n",
              "      <td>3.039</td>\n",
              "      <td>0.033</td>\n",
              "      <td>0.000</td>\n",
              "      <td>0.000</td>\n",
              "      <td>-0.044</td>\n",
              "      <td>6.522667</td>\n",
              "      <td>-0.589667</td>\n",
              "      <td>-12.187000</td>\n",
              "    </tr>\n",
              "  </tbody>\n",
              "</table>\n",
              "<p>5 rows × 73 columns</p>\n",
              "</div>\n",
              "      <button class=\"colab-df-convert\" onclick=\"convertToInteractive('df-0f9ac0ea-ef85-4fa3-b11a-2b09e5d75f1b')\"\n",
              "              title=\"Convert this dataframe to an interactive table.\"\n",
              "              style=\"display:none;\">\n",
              "        \n",
              "  <svg xmlns=\"http://www.w3.org/2000/svg\" height=\"24px\"viewBox=\"0 0 24 24\"\n",
              "       width=\"24px\">\n",
              "    <path d=\"M0 0h24v24H0V0z\" fill=\"none\"/>\n",
              "    <path d=\"M18.56 5.44l.94 2.06.94-2.06 2.06-.94-2.06-.94-.94-2.06-.94 2.06-2.06.94zm-11 1L8.5 8.5l.94-2.06 2.06-.94-2.06-.94L8.5 2.5l-.94 2.06-2.06.94zm10 10l.94 2.06.94-2.06 2.06-.94-2.06-.94-.94-2.06-.94 2.06-2.06.94z\"/><path d=\"M17.41 7.96l-1.37-1.37c-.4-.4-.92-.59-1.43-.59-.52 0-1.04.2-1.43.59L10.3 9.45l-7.72 7.72c-.78.78-.78 2.05 0 2.83L4 21.41c.39.39.9.59 1.41.59.51 0 1.02-.2 1.41-.59l7.78-7.78 2.81-2.81c.8-.78.8-2.07 0-2.86zM5.41 20L4 18.59l7.72-7.72 1.47 1.35L5.41 20z\"/>\n",
              "  </svg>\n",
              "      </button>\n",
              "      \n",
              "  <style>\n",
              "    .colab-df-container {\n",
              "      display:flex;\n",
              "      flex-wrap:wrap;\n",
              "      gap: 12px;\n",
              "    }\n",
              "\n",
              "    .colab-df-convert {\n",
              "      background-color: #E8F0FE;\n",
              "      border: none;\n",
              "      border-radius: 50%;\n",
              "      cursor: pointer;\n",
              "      display: none;\n",
              "      fill: #1967D2;\n",
              "      height: 32px;\n",
              "      padding: 0 0 0 0;\n",
              "      width: 32px;\n",
              "    }\n",
              "\n",
              "    .colab-df-convert:hover {\n",
              "      background-color: #E2EBFA;\n",
              "      box-shadow: 0px 1px 2px rgba(60, 64, 67, 0.3), 0px 1px 3px 1px rgba(60, 64, 67, 0.15);\n",
              "      fill: #174EA6;\n",
              "    }\n",
              "\n",
              "    [theme=dark] .colab-df-convert {\n",
              "      background-color: #3B4455;\n",
              "      fill: #D2E3FC;\n",
              "    }\n",
              "\n",
              "    [theme=dark] .colab-df-convert:hover {\n",
              "      background-color: #434B5C;\n",
              "      box-shadow: 0px 1px 3px 1px rgba(0, 0, 0, 0.15);\n",
              "      filter: drop-shadow(0px 1px 2px rgba(0, 0, 0, 0.3));\n",
              "      fill: #FFFFFF;\n",
              "    }\n",
              "  </style>\n",
              "\n",
              "      <script>\n",
              "        const buttonEl =\n",
              "          document.querySelector('#df-0f9ac0ea-ef85-4fa3-b11a-2b09e5d75f1b button.colab-df-convert');\n",
              "        buttonEl.style.display =\n",
              "          google.colab.kernel.accessAllowed ? 'block' : 'none';\n",
              "\n",
              "        async function convertToInteractive(key) {\n",
              "          const element = document.querySelector('#df-0f9ac0ea-ef85-4fa3-b11a-2b09e5d75f1b');\n",
              "          const dataTable =\n",
              "            await google.colab.kernel.invokeFunction('convertToInteractive',\n",
              "                                                     [key], {});\n",
              "          if (!dataTable) return;\n",
              "\n",
              "          const docLinkHtml = 'Like what you see? Visit the ' +\n",
              "            '<a target=\"_blank\" href=https://colab.research.google.com/notebooks/data_table.ipynb>data table notebook</a>'\n",
              "            + ' to learn more about interactive tables.';\n",
              "          element.innerHTML = '';\n",
              "          dataTable['output_type'] = 'display_data';\n",
              "          await google.colab.output.renderOutput(dataTable, element);\n",
              "          const docLink = document.createElement('div');\n",
              "          docLink.innerHTML = docLinkHtml;\n",
              "          element.appendChild(docLink);\n",
              "        }\n",
              "      </script>\n",
              "    </div>\n",
              "  </div>\n",
              "  "
            ]
          },
          "metadata": {},
          "execution_count": 283
        }
      ],
      "source": [
        "trade_data.head()"
      ]
    },
    {
      "cell_type": "markdown",
      "metadata": {
        "id": "qqGG78pLyCX7"
      },
      "source": [
        "## 5.2 Set up the training environment"
      ]
    },
    {
      "cell_type": "code",
      "execution_count": null,
      "metadata": {
        "id": "LPD0wZLO-Pse"
      },
      "outputs": [],
      "source": [
        "import gym\n",
        "import matplotlib\n",
        "import matplotlib.pyplot as plt\n",
        "import numpy as np\n",
        "import pandas as pd\n",
        "from gym import spaces\n",
        "from gym.utils import seeding\n",
        "from stable_baselines3.common.vec_env import DummyVecEnv\n",
        "\n",
        "matplotlib.use(\"Agg\")\n",
        "\n",
        "# from stable_baselines3.common import logger\n",
        "\n",
        "\n",
        "class StockTradingEnv(gym.Env):\n",
        "    \"\"\"A stock trading environment for OpenAI gym\"\"\"\n",
        "\n",
        "    metadata = {\"render.modes\": [\"human\"]}\n",
        "\n",
        "    def __init__(\n",
        "        self,\n",
        "        df,\n",
        "        stock_dim,\n",
        "        hmax,\n",
        "        initial_amount,\n",
        "        buy_cost_pct,\n",
        "        sell_cost_pct,\n",
        "        reward_scaling,\n",
        "        state_space,\n",
        "        action_space,\n",
        "        tech_indicator_list,\n",
        "        turbulence_threshold=None,\n",
        "        risk_indicator_col=\"turbulence\",\n",
        "        make_plots=False,\n",
        "        print_verbosity=10,\n",
        "        day=0,\n",
        "        initial=True,\n",
        "        previous_state=[],\n",
        "        model_name=\"\",\n",
        "        mode=\"\",\n",
        "        iteration=\"\",\n",
        "    ):\n",
        "        self.day = day\n",
        "        self.df = df\n",
        "        self.stock_dim = stock_dim\n",
        "        self.hmax = hmax\n",
        "        self.initial_amount = initial_amount\n",
        "        self.buy_cost_pct = buy_cost_pct\n",
        "        self.sell_cost_pct = sell_cost_pct\n",
        "        self.reward_scaling = reward_scaling\n",
        "        self.state_space = state_space\n",
        "        self.action_space = action_space\n",
        "        self.tech_indicator_list = tech_indicator_list\n",
        "        self.action_space = spaces.Box(low=-1, high=1, shape=(self.action_space,))\n",
        "        self.observation_space = spaces.Box(\n",
        "            low=-np.inf, high=np.inf, shape=(self.state_space,)\n",
        "        )\n",
        "        self.data = self.df.loc[self.day, :]\n",
        "        self.terminal = False\n",
        "        self.make_plots = make_plots\n",
        "        self.print_verbosity = print_verbosity\n",
        "        self.turbulence_threshold = turbulence_threshold\n",
        "        self.risk_indicator_col = risk_indicator_col\n",
        "        self.initial = initial\n",
        "        self.previous_state = previous_state\n",
        "        self.model_name = model_name\n",
        "        self.mode = mode\n",
        "        self.iteration = iteration\n",
        "        # initalize state\n",
        "        self.state = self._initiate_state()\n",
        "\n",
        "        # initialize reward\n",
        "        self.reward = 0\n",
        "        self.turbulence = 0\n",
        "        self.cost = 0\n",
        "        self.trades = 0\n",
        "        self.episode = 0\n",
        "        # memorize all the total balance change\n",
        "        self.asset_memory = [self.initial_amount]\n",
        "        self.rewards_memory = []\n",
        "        self.actions_memory = []\n",
        "        self.date_memory = [self._get_date()]\n",
        "        # self.reset()\n",
        "        self._seed()\n",
        "\n",
        "    def _sell_stock(self, index, action):\n",
        "        def _do_sell_normal():\n",
        "            if self.state[index + 1] > 0:\n",
        "                # Sell only if the price is > 0 (no missing data in this particular date)\n",
        "                # perform sell action based on the sign of the action\n",
        "                if self.state[index + self.stock_dim + 1] > 0:\n",
        "                    # Sell only if current asset is > 0\n",
        "                    sell_num_shares = min(\n",
        "                        abs(action), self.state[index + self.stock_dim + 1]\n",
        "                    )\n",
        "                    sell_amount = (\n",
        "                        self.state[index + 1]\n",
        "                        * sell_num_shares\n",
        "                        * (1 - self.sell_cost_pct)\n",
        "                    )\n",
        "                    # update balance\n",
        "                    self.state[0] += sell_amount\n",
        "\n",
        "                    self.state[index + self.stock_dim + 1] -= sell_num_shares\n",
        "                    self.cost += (\n",
        "                        self.state[index + 1] * sell_num_shares * self.sell_cost_pct\n",
        "                    )\n",
        "                    self.trades += 1\n",
        "                else:\n",
        "                    sell_num_shares = 0\n",
        "            else:\n",
        "                sell_num_shares = 0\n",
        "\n",
        "            return sell_num_shares\n",
        "\n",
        "        # perform sell action based on the sign of the action\n",
        "        if self.turbulence_threshold is not None:\n",
        "            if self.turbulence >= self.turbulence_threshold:\n",
        "                if self.state[index + 1] > 0:\n",
        "                    # Sell only if the price is > 0 (no missing data in this particular date)\n",
        "                    # if turbulence goes over threshold, just clear out all positions\n",
        "                    if self.state[index + self.stock_dim + 1] > 0:\n",
        "                        # Sell only if current asset is > 0\n",
        "                        sell_num_shares = self.state[index + self.stock_dim + 1]\n",
        "                        sell_amount = (\n",
        "                            self.state[index + 1]\n",
        "                            * sell_num_shares\n",
        "                            * (1 - self.sell_cost_pct)\n",
        "                        )\n",
        "                        # update balance\n",
        "                        self.state[0] += sell_amount\n",
        "                        self.state[index + self.stock_dim + 1] = 0\n",
        "                        self.cost += (\n",
        "                            self.state[index + 1] * sell_num_shares * self.sell_cost_pct\n",
        "                        )\n",
        "                        self.trades += 1\n",
        "                    else:\n",
        "                        sell_num_shares = 0\n",
        "                else:\n",
        "                    sell_num_shares = 0\n",
        "            else:\n",
        "                sell_num_shares = _do_sell_normal()\n",
        "        else:\n",
        "            sell_num_shares = _do_sell_normal()\n",
        "\n",
        "        return sell_num_shares\n",
        "\n",
        "    def _buy_stock(self, index, action):\n",
        "        def _do_buy():\n",
        "            if self.state[index + 1] > 0:\n",
        "                # Buy only if the price is > 0 (no missing data in this particular date)\n",
        "                available_amount = self.state[0] // self.state[index + 1]\n",
        "                # print('available_amount:{}'.format(available_amount))\n",
        "\n",
        "                # update balance\n",
        "                buy_num_shares = min(available_amount, action)\n",
        "                buy_amount = (\n",
        "                    self.state[index + 1] * buy_num_shares * (1 + self.buy_cost_pct)\n",
        "                )\n",
        "                self.state[0] -= buy_amount\n",
        "\n",
        "                self.state[index + self.stock_dim + 1] += buy_num_shares\n",
        "\n",
        "                self.cost += self.state[index + 1] * buy_num_shares * self.buy_cost_pct\n",
        "                self.trades += 1\n",
        "            else:\n",
        "                buy_num_shares = 0\n",
        "\n",
        "            return buy_num_shares\n",
        "\n",
        "        # perform buy action based on the sign of the action\n",
        "        if self.turbulence_threshold is None:\n",
        "            buy_num_shares = _do_buy()\n",
        "        else:\n",
        "            if self.turbulence < self.turbulence_threshold:\n",
        "                buy_num_shares = _do_buy()\n",
        "            else:\n",
        "                buy_num_shares = 0\n",
        "                pass\n",
        "\n",
        "        return buy_num_shares\n",
        "\n",
        "    def _make_plot(self):\n",
        "        plt.plot(self.asset_memory, \"r\")\n",
        "        plt.savefig(\"results/account_value_trade_{}.png\".format(self.episode))\n",
        "        plt.close()\n",
        "\n",
        "    def step(self, actions):\n",
        "        self.terminal = self.day >= len(self.df.index.unique()) - 1\n",
        "        if self.terminal:\n",
        "            # print(f\"Episode: {self.episode}\")\n",
        "            if self.make_plots:\n",
        "                self._make_plot()\n",
        "            end_total_asset = self.state[0] + sum(\n",
        "                np.array(self.state[1 : (self.stock_dim + 1)])\n",
        "                * np.array(self.state[(self.stock_dim + 1) : (self.stock_dim * 2 + 1)])\n",
        "            )\n",
        "            df_total_value = pd.DataFrame(self.asset_memory)\n",
        "            tot_reward = (\n",
        "                self.state[0]\n",
        "                + sum(\n",
        "                    np.array(self.state[1 : (self.stock_dim + 1)])\n",
        "                    * np.array(\n",
        "                        self.state[(self.stock_dim + 1) : (self.stock_dim * 2 + 1)]\n",
        "                    )\n",
        "                )\n",
        "                - self.initial_amount\n",
        "            )\n",
        "            df_total_value.columns = [\"account_value\"]\n",
        "            df_total_value[\"date\"] = self.date_memory\n",
        "            df_total_value[\"daily_return\"] = df_total_value[\"account_value\"].pct_change(\n",
        "                1\n",
        "            )\n",
        "            if df_total_value[\"daily_return\"].std() != 0:\n",
        "                sharpe = (\n",
        "                    (252 ** 0.5)\n",
        "                    * df_total_value[\"daily_return\"].mean()\n",
        "                    / df_total_value[\"daily_return\"].std()\n",
        "                )\n",
        "            df_rewards = pd.DataFrame(self.rewards_memory)\n",
        "            df_rewards.columns = [\"account_rewards\"]\n",
        "            df_rewards[\"date\"] = self.date_memory[:-1]\n",
        "            if self.episode % self.print_verbosity == 0:\n",
        "                print(f\"day: {self.day}, episode: {self.episode}\")\n",
        "                print(f\"begin_total_asset: {self.asset_memory[0]:0.2f}\")\n",
        "                print(f\"end_total_asset: {end_total_asset:0.2f}\")\n",
        "                print(f\"total_reward: {tot_reward:0.2f}\")\n",
        "                print(f\"total_cost: {self.cost:0.2f}\")\n",
        "                print(f\"total_trades: {self.trades}\")\n",
        "                if df_total_value[\"daily_return\"].std() != 0:\n",
        "                    print(f\"Sharpe: {sharpe:0.3f}\")\n",
        "                print(\"=================================\")\n",
        "\n",
        "            if (self.model_name != \"\") and (self.mode != \"\"):\n",
        "                df_actions = self.save_action_memory()\n",
        "                df_actions.to_csv(\n",
        "                    \"results/actions_{}_{}_{}.csv\".format(\n",
        "                        self.mode, self.model_name, self.iteration\n",
        "                    )\n",
        "                )\n",
        "                df_total_value.to_csv(\n",
        "                    \"results/account_value_{}_{}_{}.csv\".format(\n",
        "                        self.mode, self.model_name, self.iteration\n",
        "                    ),\n",
        "                    index=False,\n",
        "                )\n",
        "                df_rewards.to_csv(\n",
        "                    \"results/account_rewards_{}_{}_{}.csv\".format(\n",
        "                        self.mode, self.model_name, self.iteration\n",
        "                    ),\n",
        "                    index=False,\n",
        "                )\n",
        "                plt.plot(self.asset_memory, \"r\")\n",
        "                plt.savefig(\n",
        "                    \"results/account_value_{}_{}_{}.png\".format(\n",
        "                        self.mode, self.model_name, self.iteration\n",
        "                    ),\n",
        "                    index=False,\n",
        "                )\n",
        "                plt.close()\n",
        "\n",
        "            # Add outputs to logger interface\n",
        "            # logger.record(\"environment/portfolio_value\", end_total_asset)\n",
        "            # logger.record(\"environment/total_reward\", tot_reward)\n",
        "            # logger.record(\"environment/total_reward_pct\", (tot_reward / (end_total_asset - tot_reward)) * 100)\n",
        "            # logger.record(\"environment/total_cost\", self.cost)\n",
        "            # logger.record(\"environment/total_trades\", self.trades)\n",
        "\n",
        "            return self.state, self.reward, self.terminal, {}\n",
        "\n",
        "        else:\n",
        "\n",
        "            actions = actions * self.hmax  # actions initially is scaled between 0 to 1\n",
        "            actions = actions.astype(\n",
        "                int\n",
        "            )  # convert into integer because we can't by fraction of shares\n",
        "            if self.turbulence_threshold is not None:\n",
        "                if self.turbulence >= self.turbulence_threshold:\n",
        "                    actions = np.array([-self.hmax] * self.stock_dim)\n",
        "            begin_total_asset = self.state[0] + sum(\n",
        "                np.array(self.state[1 : (self.stock_dim + 1)])\n",
        "                * np.array(self.state[(self.stock_dim + 1) : (self.stock_dim * 2 + 1)])\n",
        "            )\n",
        "            # print(\"begin_total_asset:{}\".format(begin_total_asset))\n",
        "\n",
        "            argsort_actions = np.argsort(actions)\n",
        "\n",
        "            sell_index = argsort_actions[: np.where(actions < 0)[0].shape[0]]\n",
        "            buy_index = argsort_actions[::-1][: np.where(actions > 0)[0].shape[0]]\n",
        "\n",
        "            for index in sell_index:\n",
        "                # print(f\"Num shares before: {self.state[index+self.stock_dim+1]}\")\n",
        "                # print(f'take sell action before : {actions[index]}')\n",
        "                actions[index] = self._sell_stock(index, actions[index]) * (-1)\n",
        "                # print(f'take sell action after : {actions[index]}')\n",
        "                # print(f\"Num shares after: {self.state[index+self.stock_dim+1]}\")\n",
        "\n",
        "            for index in buy_index:\n",
        "                # print('take buy action: {}'.format(actions[index]))\n",
        "                actions[index] = self._buy_stock(index, actions[index])\n",
        "\n",
        "            self.actions_memory.append(actions)\n",
        "\n",
        "            # state: s -> s+1\n",
        "            self.day += 1\n",
        "            self.data = self.df.loc[self.day, :]\n",
        "            if self.turbulence_threshold is not None:\n",
        "                if len(self.df.tic.unique()) == 1:\n",
        "                    self.turbulence = self.data[self.risk_indicator_col]\n",
        "                elif len(self.df.tic.unique()) > 1:\n",
        "                    self.turbulence = self.data[self.risk_indicator_col].values[0]\n",
        "            self.state = self._update_state()\n",
        "\n",
        "            end_total_asset = self.state[0] + sum(\n",
        "                np.array(self.state[1 : (self.stock_dim + 1)])\n",
        "                * np.array(self.state[(self.stock_dim + 1) : (self.stock_dim * 2 + 1)])\n",
        "            )\n",
        "            self.asset_memory.append(end_total_asset)\n",
        "            self.date_memory.append(self._get_date())\n",
        "            self.reward = end_total_asset - begin_total_asset\n",
        "            self.rewards_memory.append(self.reward)\n",
        "            self.reward = self.reward * self.reward_scaling\n",
        "\n",
        "        return self.state, self.reward, self.terminal, {}\n",
        "\n",
        "    def reset(self):\n",
        "        # initiate state\n",
        "        self.state = self._initiate_state()\n",
        "\n",
        "        if self.initial:\n",
        "            self.asset_memory = [self.initial_amount]\n",
        "        else:\n",
        "            previous_total_asset = self.previous_state[0] + sum(\n",
        "                np.array(self.state[1 : (self.stock_dim + 1)])\n",
        "                * np.array(\n",
        "                    self.previous_state[(self.stock_dim + 1) : (self.stock_dim * 2 + 1)]\n",
        "                )\n",
        "            )\n",
        "            self.asset_memory = [previous_total_asset]\n",
        "\n",
        "        self.day = 0\n",
        "        self.data = self.df.loc[self.day, :]\n",
        "        self.turbulence = 0\n",
        "        self.cost = 0\n",
        "        self.trades = 0\n",
        "        self.terminal = False\n",
        "        # self.iteration=self.iteration\n",
        "        self.rewards_memory = []\n",
        "        self.actions_memory = []\n",
        "        self.date_memory = [self._get_date()]\n",
        "\n",
        "        self.episode += 1\n",
        "\n",
        "        return self.state\n",
        "\n",
        "    def render(self, mode=\"human\", close=False):\n",
        "        return self.state\n",
        "\n",
        "    def _initiate_state(self):\n",
        "        if self.initial:\n",
        "            # For Initial State\n",
        "            if len(self.df.tic.unique()) > 1:\n",
        "                # for multiple stock\n",
        "                state = (\n",
        "                    [self.initial_amount]\n",
        "                    + self.data.close.values.tolist()\n",
        "                    + [0] * self.stock_dim\n",
        "                    + sum(\n",
        "                        [\n",
        "                            self.data[tech].values.tolist()\n",
        "                            for tech in self.tech_indicator_list\n",
        "                        ],\n",
        "                        [],\n",
        "                    )\n",
        "                )\n",
        "            else:\n",
        "                # for single stock\n",
        "                state = (\n",
        "                    [self.initial_amount]\n",
        "                    + [self.data.close]\n",
        "                    + [0] * self.stock_dim\n",
        "                    + sum([[self.data[tech]] for tech in self.tech_indicator_list], [])\n",
        "                )\n",
        "        else:\n",
        "            # Using Previous State\n",
        "            if len(self.df.tic.unique()) > 1:\n",
        "                # for multiple stock\n",
        "                state = (\n",
        "                    [self.previous_state[0]]\n",
        "                    + self.data.close.values.tolist()\n",
        "                    + self.previous_state[\n",
        "                        (self.stock_dim + 1) : (self.stock_dim * 2 + 1)\n",
        "                    ]\n",
        "                    + sum(\n",
        "                        [\n",
        "                            self.data[tech].values.tolist()\n",
        "                            for tech in self.tech_indicator_list\n",
        "                        ],\n",
        "                        [],\n",
        "                    )\n",
        "                )\n",
        "            else:\n",
        "                # for single stock\n",
        "                state = (\n",
        "                    [self.previous_state[0]]\n",
        "                    + [self.data.close]\n",
        "                    + self.previous_state[\n",
        "                        (self.stock_dim + 1) : (self.stock_dim * 2 + 1)\n",
        "                    ]\n",
        "                    + sum([[self.data[tech]] for tech in self.tech_indicator_list], [])\n",
        "                )\n",
        "        return state\n",
        "\n",
        "    def _update_state(self):\n",
        "        if len(self.df.tic.unique()) > 1:\n",
        "            # for multiple stock\n",
        "            state = (\n",
        "                [self.state[0]]\n",
        "                + self.data.close.values.tolist()\n",
        "                + list(self.state[(self.stock_dim + 1) : (self.stock_dim * 2 + 1)])\n",
        "                + sum(\n",
        "                    [\n",
        "                        self.data[tech].values.tolist()\n",
        "                        for tech in self.tech_indicator_list\n",
        "                    ],\n",
        "                    [],\n",
        "                )\n",
        "            )\n",
        "\n",
        "        else:\n",
        "            # for single stock\n",
        "            state = (\n",
        "                [self.state[0]]\n",
        "                + [self.data.close]\n",
        "                + list(self.state[(self.stock_dim + 1) : (self.stock_dim * 2 + 1)])\n",
        "                + sum([[self.data[tech]] for tech in self.tech_indicator_list], [])\n",
        "            )\n",
        "        return state\n",
        "\n",
        "    def _get_date(self):\n",
        "        if len(self.df.tic.unique()) > 1:\n",
        "            date = self.data.date.unique()[0]\n",
        "        else:\n",
        "            date = self.data.date\n",
        "        return date\n",
        "\n",
        "    def save_asset_memory(self):\n",
        "        date_list = self.date_memory\n",
        "        asset_list = self.asset_memory\n",
        "        # print(len(date_list))\n",
        "        # print(len(asset_list))\n",
        "        df_account_value = pd.DataFrame(\n",
        "            {\"date\": date_list, \"account_value\": asset_list}\n",
        "        )\n",
        "        return df_account_value\n",
        "\n",
        "    def save_action_memory(self):\n",
        "        if len(self.df.tic.unique()) > 1:\n",
        "            # date and close price length must match actions length\n",
        "            date_list = self.date_memory[:-1]\n",
        "            df_date = pd.DataFrame(date_list)\n",
        "            df_date.columns = [\"date\"]\n",
        "\n",
        "            action_list = self.actions_memory\n",
        "            df_actions = pd.DataFrame(action_list)\n",
        "            df_actions.columns = self.data.tic.values\n",
        "            df_actions.index = df_date.date\n",
        "            # df_actions = pd.DataFrame({'date':date_list,'actions':action_list})\n",
        "        else:\n",
        "            date_list = self.date_memory[:-1]\n",
        "            action_list = self.actions_memory\n",
        "            df_actions = pd.DataFrame({\"date\": date_list, \"actions\": action_list})\n",
        "        return df_actions\n",
        "\n",
        "    def _seed(self, seed=None):\n",
        "        self.np_random, seed = seeding.np_random(seed)\n",
        "        return [seed]\n",
        "\n",
        "    def get_sb_env(self):\n",
        "        e = DummyVecEnv([lambda: self])\n",
        "        obs = e.reset()\n",
        "        return e, obs"
      ]
    },
    {
      "cell_type": "markdown",
      "source": [
        "## Name ratio list"
      ],
      "metadata": {
        "id": "zDbwK2bGIdAm"
      }
    },
    {
      "cell_type": "code",
      "execution_count": null,
      "metadata": {
        "colab": {
          "base_uri": "https://localhost:8080/"
        },
        "id": "Q2zqII8rMIqn",
        "outputId": "5e06cb92-eb58-43b4-af04-5c6123ef8663"
      },
      "outputs": [
        {
          "output_type": "stream",
          "name": "stdout",
          "text": [
            "Stock Dimension: 29, State Space: 1973\n"
          ]
        }
      ],
      "source": [
        "ratio_list = train_data.columns[7:].to_list()\n",
        "\n",
        "stock_dimension = len(train_data.tic.unique())\n",
        "state_space = 1 + 2*stock_dimension + len(ratio_list)*stock_dimension\n",
        "print(f\"Stock Dimension: {stock_dimension}, State Space: {state_space}\")"
      ]
    },
    {
      "cell_type": "markdown",
      "source": [
        "## [WIP] Visualize turbulence histogram"
      ],
      "metadata": {
        "id": "N5tdYFWqHhVA"
      }
    },
    {
      "cell_type": "code",
      "source": [
        "data_risk_indicator = full_df[(full_df.date<TRAIN_END_DATE) & (full_df.date>=TRAIN_START_DATE)]\n",
        "insample_risk_indicator = data_risk_indicator.drop_duplicates(subset=['date'])\n",
        "insample_risk_indicator.turbulence.describe()"
      ],
      "metadata": {
        "colab": {
          "base_uri": "https://localhost:8080/"
        },
        "id": "5J3ii59PBWXw",
        "outputId": "85b0d519-9eb4-4e86-d1bb-13306a2af767"
      },
      "execution_count": null,
      "outputs": [
        {
          "output_type": "execute_result",
          "data": {
            "text/plain": [
              "count    2398.000000\n",
              "mean       39.386152\n",
              "std        51.852386\n",
              "min         2.490526\n",
              "25%        17.205226\n",
              "50%        25.619987\n",
              "75%        42.246510\n",
              "max       652.506982\n",
              "Name: turbulence, dtype: float64"
            ]
          },
          "metadata": {},
          "execution_count": 286
        }
      ]
    },
    {
      "cell_type": "code",
      "source": [
        "%matplotlib inline\n",
        "# insample_risk_indicator[\"turbulence\"].to_list()\n",
        "# np.arange(len(insample_risk_indicator.index))\n",
        "plt.scatter(np.arange(len(insample_risk_indicator.index)), insample_risk_indicator[\"turbulence\"].to_list()) # / len(insample_risk_indicator.index)\n",
        "# plt.xaxis(\"\")\n",
        "plt.show()"
      ],
      "metadata": {
        "colab": {
          "base_uri": "https://localhost:8080/",
          "height": 265
        },
        "id": "yS8kBI7TCiFh",
        "outputId": "796a0953-f11a-4b9c-c636-6406527cc362"
      },
      "execution_count": null,
      "outputs": [
        {
          "output_type": "display_data",
          "data": {
            "text/plain": [
              "<Figure size 432x288 with 1 Axes>"
            ],
            "image/png": "[encoded data removed]"
          },
          "metadata": {
            "needs_background": "light"
          }
        }
      ]
    },
    {
      "cell_type": "code",
      "source": [
        "# num_less_than = len(insample_risk_indicator[insample_risk_indicator[\"turbulence\"] < 70])\n",
        "# num_less_than / 3651"
      ],
      "metadata": {
        "id": "CqOYnrEZLLh4"
      },
      "execution_count": null,
      "outputs": []
    },
    {
      "cell_type": "code",
      "source": [
        "thresh_choices = np.linspace(0, 552, 100)\n",
        "plt.scatter(thresh_choices,\n",
        "            [len(insample_risk_indicator[insample_risk_indicator[\"turbulence\"] < choice]) / len(insample_risk_indicator) for choice in thresh_choices])"
      ],
      "metadata": {
        "colab": {
          "base_uri": "https://localhost:8080/",
          "height": 283
        },
        "id": "0qLPVfJxMHvz",
        "outputId": "d3e5c9b6-896b-43ae-ad9c-21f83d3240c9"
      },
      "execution_count": null,
      "outputs": [
        {
          "output_type": "execute_result",
          "data": {
            "text/plain": [
              "<matplotlib.collections.PathCollection at 0x7fbb8d487e50>"
            ]
          },
          "metadata": {},
          "execution_count": 289
        },
        {
          "output_type": "display_data",
          "data": {
            "text/plain": [
              "<Figure size 432x288 with 1 Axes>"
            ],
            "image/png": "[encoded data removed]"
          },
          "metadata": {
            "needs_background": "light"
          }
        }
      ]
    },
    {
      "cell_type": "code",
      "source": [
        "insample_risk_indicator.turbulence.quantile(0.994)"
      ],
      "metadata": {
        "colab": {
          "base_uri": "https://localhost:8080/"
        },
        "id": "wJIl3f3cehgJ",
        "outputId": "aacbf6ba-d9b8-4675-eff6-eddb1fd7f56e"
      },
      "execution_count": null,
      "outputs": [
        {
          "output_type": "execute_result",
          "data": {
            "text/plain": [
              "379.5702977819486"
            ]
          },
          "metadata": {},
          "execution_count": 290
        }
      ]
    },
    {
      "cell_type": "code",
      "source": [
        "_junk = plt.hist(insample_risk_indicator[\"turbulence\"], bins=100)"
      ],
      "metadata": {
        "colab": {
          "base_uri": "https://localhost:8080/",
          "height": 268
        },
        "id": "pGWbjQMRNiKC",
        "outputId": "a8fbaaca-8561-4d04-ecd4-6c4bf5525ea3"
      },
      "execution_count": null,
      "outputs": [
        {
          "output_type": "display_data",
          "data": {
            "text/plain": [
              "<Figure size 432x288 with 1 Axes>"
            ],
            "image/png": "[encoded data removed]"
          },
          "metadata": {
            "needs_background": "light"
          }
        }
      ]
    },
    {
      "cell_type": "code",
      "execution_count": null,
      "metadata": {
        "id": "AWyp84Ltto19"
      },
      "outputs": [],
      "source": [
        "# Parameters for the environment\n",
        "env_kwargs = {\n",
        "    \"hmax\": 100, \n",
        "    \"initial_amount\": 1000000, \n",
        "    \"buy_cost_pct\": hyperparameters[\"transaction_cost\"],\n",
        "    \"sell_cost_pct\": hyperparameters[\"transaction_cost\"],\n",
        "    \"state_space\": state_space, \n",
        "    \"stock_dim\": stock_dimension, \n",
        "    \"tech_indicator_list\": ratio_list, \n",
        "    \"action_space\": stock_dimension, \n",
        "    \"reward_scaling\": 1e-4,\n",
        "    \"turbulence_threshold\": hyperparameters[\"turbulence_threshold\"]\n",
        "}\n",
        "\n",
        "#Establish the training environment using StockTradingEnv() class\n",
        "e_train_gym = StockTradingEnv(df = train_data, **env_kwargs)\n",
        "e_trade_gym.seed(0)"
      ]
    },
    {
      "cell_type": "markdown",
      "metadata": {
        "id": "64EoqOrQjiVf"
      },
      "source": [
        "## Environment for Training\n",
        "\n"
      ]
    },
    {
      "cell_type": "code",
      "execution_count": null,
      "metadata": {
        "colab": {
          "base_uri": "https://localhost:8080/"
        },
        "id": "xwSvvPjutpqS",
        "outputId": "87717ba4-76ed-4476-9b1e-25bc3f2dd03f"
      },
      "outputs": [
        {
          "output_type": "stream",
          "name": "stdout",
          "text": [
            "<class 'stable_baselines3.common.vec_env.dummy_vec_env.DummyVecEnv'>\n"
          ]
        }
      ],
      "source": [
        "env_train, _ = e_train_gym.get_sb_env()\n",
        "print(type(env_train))"
      ]
    },
    {
      "cell_type": "markdown",
      "metadata": {
        "id": "HMNR5nHjh1iz"
      },
      "source": [
        "<a id='5'></a>\n",
        "# Part 6: Train DRL Agents\n",
        "* The DRL algorithms are from **Stable Baselines 3**. Users are also encouraged to try **ElegantRL** and **Ray RLlib**.\n",
        "* FinRL library includes fine-tuned standard DRL algorithms, such as DQN, DDPG,\n",
        "Multi-Agent DDPG, PPO, SAC, A2C and TD3. We also allow users to\n",
        "design their own DRL algorithms by adapting these DRL algorithms."
      ]
    },
    {
      "cell_type": "code",
      "execution_count": null,
      "metadata": {
        "id": "364PsqckttcQ"
      },
      "outputs": [],
      "source": [
        "# Set up the agent using DRLAgent() class using the environment created in the previous part\n",
        "agent = DRLAgent(env = env_train)\n",
        "\n",
        "if_using_a2c = False\n",
        "if_using_ddpg = False\n",
        "if_using_ppo = False\n",
        "if_using_td3 = False\n",
        "if_using_sac = True"
      ]
    },
    {
      "cell_type": "markdown",
      "metadata": {
        "id": "YDmqOyF9h1iz"
      },
      "source": [
        "### Agent Training: 5 algorithms (A2C, DDPG, PPO, TD3, SAC)"
      ]
    },
    {
      "cell_type": "markdown",
      "metadata": {
        "id": "_gDkU-j-fCmZ"
      },
      "source": [
        "### Model 1: PPO"
      ]
    },
    {
      "cell_type": "code",
      "execution_count": null,
      "metadata": {
        "id": "y5D5PFUhMzSV",
        "colab": {
          "base_uri": "https://localhost:8080/"
        },
        "outputId": "a545a87e-2b0c-4943-933b-fdf2d9d27be2"
      },
      "outputs": [
        {
          "output_type": "stream",
          "name": "stdout",
          "text": [
            "{'n_steps': 2048, 'ent_coef': 0.01, 'learning_rate': 0.00025, 'batch_size': 128}\n",
            "Using cuda device\n"
          ]
        }
      ],
      "source": [
        "agent = DRLAgent(env = env_train)\n",
        "PPO_PARAMS = {\n",
        "    \"n_steps\": 2048,\n",
        "    \"ent_coef\": 0.01,\n",
        "    \"learning_rate\": 0.00025,\n",
        "    \"batch_size\": 128,\n",
        "}\n",
        "model_ppo = agent.get_model(\"ppo\",model_kwargs = PPO_PARAMS)\n",
        "\n",
        "if if_using_ppo:\n",
        "  # set up logger\n",
        "  tmp_path = RESULTS_DIR + '/ppo'\n",
        "  new_logger_ppo = configure(tmp_path, [\"stdout\", \"csv\", \"tensorboard\"])\n",
        "  # Set new logger\n",
        "  model_ppo.set_logger(new_logger_ppo)"
      ]
    },
    {
      "cell_type": "code",
      "execution_count": null,
      "metadata": {
        "id": "Gt8eIQKYM4G3"
      },
      "outputs": [],
      "source": [
        "trained_ppo = agent.train_model(model=model_ppo, \n",
        "                             tb_log_name='ppo',\n",
        "                             total_timesteps=50000) if if_using_ppo else None"
      ]
    },
    {
      "cell_type": "markdown",
      "metadata": {
        "id": "MRiOtrywfAo1"
      },
      "source": [
        "### Model 2: DDPG"
      ]
    },
    {
      "cell_type": "code",
      "execution_count": null,
      "metadata": {
        "id": "M2YadjfnLwgt",
        "colab": {
          "base_uri": "https://localhost:8080/"
        },
        "outputId": "c70676d9-bb32-4276-b7f2-b91ed86922d3"
      },
      "outputs": [
        {
          "output_type": "stream",
          "name": "stdout",
          "text": [
            "{'batch_size': 128, 'buffer_size': 50000, 'learning_rate': 0.001}\n",
            "Using cuda device\n"
          ]
        }
      ],
      "source": [
        "agent = DRLAgent(env = env_train)\n",
        "model_ddpg = agent.get_model(\"ddpg\")\n",
        "\n",
        "if if_using_ddpg:\n",
        "  # set up logger\n",
        "  tmp_path = RESULTS_DIR + '/ddpg'\n",
        "  new_logger_ddpg = configure(tmp_path, [\"stdout\", \"csv\", \"tensorboard\"])\n",
        "  # Set new logger\n",
        "  model_ddpg.set_logger(new_logger_ddpg)"
      ]
    },
    {
      "cell_type": "code",
      "execution_count": null,
      "metadata": {
        "collapsed": true,
        "id": "tCDa78rqfO_a"
      },
      "outputs": [],
      "source": [
        "trained_ddpg = agent.train_model(model=model_ddpg, \n",
        "                             tb_log_name='ddpg',\n",
        "                             total_timesteps=50000) if if_using_ddpg else None"
      ]
    },
    {
      "cell_type": "markdown",
      "metadata": {
        "id": "uijiWgkuh1jB"
      },
      "source": [
        "### Model 3: A2C\n"
      ]
    },
    {
      "cell_type": "code",
      "execution_count": null,
      "metadata": {
        "id": "GUCnkn-HIbmj",
        "colab": {
          "base_uri": "https://localhost:8080/"
        },
        "outputId": "22b220f3-f853-493a-858c-c1b3d518fbf9"
      },
      "outputs": [
        {
          "output_type": "stream",
          "name": "stdout",
          "text": [
            "{'n_steps': 5, 'ent_coef': 0.01, 'learning_rate': 0.0007}\n",
            "Using cuda device\n"
          ]
        }
      ],
      "source": [
        "agent = DRLAgent(env = env_train)\n",
        "model_a2c = agent.get_model(\"a2c\")\n",
        "\n",
        "if if_using_a2c:\n",
        "  # set up logger\n",
        "  tmp_path = RESULTS_DIR + '/a2c'\n",
        "  new_logger_a2c = configure(tmp_path, [\"stdout\", \"csv\", \"tensorboard\"])\n",
        "  # Set new logger\n",
        "  model_a2c.set_logger(new_logger_a2c)"
      ]
    },
    {
      "cell_type": "code",
      "execution_count": null,
      "metadata": {
        "id": "0GVpkWGqH4-D"
      },
      "outputs": [],
      "source": [
        "trained_a2c = agent.train_model(model=model_a2c, \n",
        "                             tb_log_name='a2c',\n",
        "                             total_timesteps=50000) if if_using_a2c else None"
      ]
    },
    {
      "cell_type": "markdown",
      "metadata": {
        "id": "3Zpv4S0-fDBv"
      },
      "source": [
        "### Model 4: TD3"
      ]
    },
    {
      "cell_type": "code",
      "execution_count": null,
      "metadata": {
        "id": "JSAHhV4Xc-bh",
        "colab": {
          "base_uri": "https://localhost:8080/"
        },
        "outputId": "4288fd84-dc02-4826-aa8e-51960000243a"
      },
      "outputs": [
        {
          "output_type": "stream",
          "name": "stdout",
          "text": [
            "{'batch_size': 100, 'buffer_size': 1000000, 'learning_rate': 0.001}\n",
            "Using cuda device\n"
          ]
        }
      ],
      "source": [
        "agent = DRLAgent(env = env_train)\n",
        "TD3_PARAMS = {\"batch_size\": 100, \n",
        "              \"buffer_size\": 1000000, \n",
        "              \"learning_rate\": 0.001}\n",
        "\n",
        "model_td3 = agent.get_model(\"td3\",model_kwargs = TD3_PARAMS)\n",
        "\n",
        "if if_using_td3:\n",
        "  # set up logger\n",
        "  tmp_path = RESULTS_DIR + '/td3'\n",
        "  new_logger_td3 = configure(tmp_path, [\"stdout\", \"csv\", \"tensorboard\"])\n",
        "  # Set new logger\n",
        "  model_td3.set_logger(new_logger_td3)"
      ]
    },
    {
      "cell_type": "code",
      "execution_count": null,
      "metadata": {
        "id": "OSRxNYAxdKpU"
      },
      "outputs": [],
      "source": [
        "trained_td3 = agent.train_model(model=model_td3, \n",
        "                             tb_log_name='td3',\n",
        "                             total_timesteps=30000) if if_using_td3 else None"
      ]
    },
    {
      "cell_type": "markdown",
      "metadata": {
        "id": "Dr49PotrfG01"
      },
      "source": [
        "### Model 5: SAC"
      ]
    },
    {
      "cell_type": "code",
      "execution_count": null,
      "metadata": {
        "colab": {
          "base_uri": "https://localhost:8080/"
        },
        "id": "xwOhVjqRkCdM",
        "outputId": "9e2d3d6c-4811-40f0-fc4f-4b6c7f5fad25"
      },
      "outputs": [
        {
          "output_type": "stream",
          "name": "stdout",
          "text": [
            "{'batch_size': 128, 'buffer_size': 1000000, 'learning_rate': 0.0001, 'learning_starts': 100, 'ent_coef': 'auto_0.1'}\n",
            "Using cuda device\n",
            "Logging to results/sac\n"
          ]
        }
      ],
      "source": [
        "agent = DRLAgent(env = env_train)\n",
        "SAC_PARAMS = {\n",
        "    \"batch_size\": 128,\n",
        "    \"buffer_size\": 1000000,\n",
        "    \"learning_rate\": 0.0001,\n",
        "    \"learning_starts\": 100,\n",
        "    \"ent_coef\": \"auto_0.1\",\n",
        "}\n",
        "\n",
        "model_sac = agent.get_model(\"sac\",model_kwargs = SAC_PARAMS)\n",
        "\n",
        "if if_using_sac:\n",
        "  # set up logger\n",
        "  tmp_path = RESULTS_DIR + '/sac'\n",
        "  new_logger_sac = configure(tmp_path, [\"stdout\", \"csv\", \"tensorboard\"])\n",
        "  # Set new logger\n",
        "  model_sac.set_logger(new_logger_sac)"
      ]
    },
    {
      "cell_type": "code",
      "execution_count": null,
      "metadata": {
        "colab": {
          "base_uri": "https://localhost:8080/"
        },
        "id": "K8RSdKCckJyH",
        "outputId": "02cf0364-9ab0-43b0-b7b3-8b9e63248731"
      },
      "outputs": [
        {
          "output_type": "stream",
          "name": "stdout",
          "text": [
            "------------------------------------\n",
            "| time/              |             |\n",
            "|    episodes        | 4           |\n",
            "|    fps             | 30          |\n",
            "|    time_elapsed    | 312         |\n",
            "|    total_timesteps | 9592        |\n",
            "| train/             |             |\n",
            "|    actor_loss      | 305         |\n",
            "|    critic_loss     | 753         |\n",
            "|    ent_coef        | 0.0839      |\n",
            "|    ent_coef_loss   | -66.9       |\n",
            "|    learning_rate   | 0.0001      |\n",
            "|    n_updates       | 9491        |\n",
            "|    reward          | -0.69625485 |\n",
            "------------------------------------\n",
            "----------------------------------\n",
            "| time/              |           |\n",
            "|    episodes        | 8         |\n",
            "|    fps             | 30        |\n",
            "|    time_elapsed    | 626       |\n",
            "|    total_timesteps | 19184     |\n",
            "| train/             |           |\n",
            "|    actor_loss      | 268       |\n",
            "|    critic_loss     | 1.43e+03  |\n",
            "|    ent_coef        | 0.0327    |\n",
            "|    ent_coef_loss   | -80.1     |\n",
            "|    learning_rate   | 0.0001    |\n",
            "|    n_updates       | 19083     |\n",
            "|    reward          | -0.938734 |\n",
            "----------------------------------\n",
            "day: 2397, episode: 10\n",
            "begin_total_asset: 1000000.00\n",
            "end_total_asset: 1600790.33\n",
            "total_reward: 600790.33\n",
            "total_cost: 155098.17\n",
            "total_trades: 48176\n",
            "Sharpe: 0.511\n",
            "=================================\n",
            "-----------------------------------\n",
            "| time/              |            |\n",
            "|    episodes        | 12         |\n",
            "|    fps             | 30         |\n",
            "|    time_elapsed    | 940        |\n",
            "|    total_timesteps | 28776      |\n",
            "| train/             |            |\n",
            "|    actor_loss      | 201        |\n",
            "|    critic_loss     | 35.9       |\n",
            "|    ent_coef        | 0.0124     |\n",
            "|    ent_coef_loss   | -116       |\n",
            "|    learning_rate   | 0.0001     |\n",
            "|    n_updates       | 28675      |\n",
            "|    reward          | -0.9076865 |\n",
            "-----------------------------------\n"
          ]
        }
      ],
      "source": [
        "trained_sac = agent.train_model(model=model_sac, \n",
        "                             tb_log_name='sac',\n",
        "                             total_timesteps=30000) if if_using_sac else None"
      ]
    },
    {
      "cell_type": "markdown",
      "metadata": {
        "id": "f2wZgkQXh1jE"
      },
      "source": [
        "## Trading\n",
        "Assume that we have $1,000,000 initial capital at TEST_START_DATE. We use the DDPG model to trade Dow jones 30 stocks."
      ]
    },
    {
      "cell_type": "markdown",
      "metadata": {
        "id": "U5mmgQF_h1jQ"
      },
      "source": [
        "### Trade\n",
        "\n",
        "DRL model needs to update periodically in order to take full advantage of the data, ideally we need to retrain our model yearly, quarterly, or monthly. We also need to tune the parameters along the way, in this notebook I only use the in-sample data from 2009-01 to 2018-12 to tune the parameters once, so there is some alpha decay here as the length of trade date extends. \n",
        "\n",
        "Numerous hyperparameters – e.g. the learning rate, the total number of samples to train on – influence the learning process and are usually determined by testing some variations."
      ]
    },
    {
      "cell_type": "code",
      "execution_count": null,
      "metadata": {
        "id": "cIqoV0GSI52v"
      },
      "outputs": [],
      "source": [
        "trade_data = data_split(full_df, TEST_START_DATE, TEST_END_DATE)\n",
        "e_trade_gym = StockTradingEnv(df = trade_data, **env_kwargs)\n",
        "# env_trade, obs_trade = e_trade_gym.get_sb_env()"
      ]
    },
    {
      "cell_type": "code",
      "execution_count": null,
      "metadata": {
        "id": "W_XNgGsBMeVw",
        "outputId": "67154a98-b96a-439f-b4d7-9f06d7d40ef4",
        "colab": {
          "base_uri": "https://localhost:8080/",
          "height": 386
        }
      },
      "outputs": [
        {
          "output_type": "execute_result",
          "data": {
            "text/plain": [
              "        date   tic        open        high         low       close  \\\n",
              "0 2020-08-01  AAPL  108.199997  111.637497  107.892502  107.266502   \n",
              "0 2020-08-01  AMGN  244.850006  249.020004  244.529999  229.484116   \n",
              "0 2020-08-01   AXP   93.309998   94.400002   92.440002   90.898560   \n",
              "0 2020-08-01    BA  156.509995  163.580002  153.410004  162.270004   \n",
              "0 2020-08-01   CAT  132.300003  133.000000  131.100006  125.353134   \n",
              "\n",
              "        volume  day      macd     boll_ub  ...  pay_turn  sale_invcap  \\\n",
              "0  308151200.0  0.0  3.166571  103.299576  ...     3.580        1.592   \n",
              "0    1853900.0  0.0  1.846089  242.161453  ...     2.457        0.600   \n",
              "0    2869000.0  0.0 -0.468254   95.370092  ...     0.387        0.588   \n",
              "0   38520500.0  0.0 -4.022719  188.746996  ...     4.776        1.963   \n",
              "0    2851100.0  0.0  2.364296  136.737679  ...     4.942        1.080   \n",
              "\n",
              "   sale_equity  rd_sale  adv_sale  staff_sale  accrual        ptb  \\\n",
              "0        4.201    0.068     0.000       0.000   -0.070  31.659333   \n",
              "0        2.451    0.172     0.034       0.000   -0.056  11.993333   \n",
              "0        1.867    0.000     0.000       0.126   -0.010   4.366000   \n",
              "0        0.000    0.041     0.000       0.000    0.083   0.000000   \n",
              "0        3.039    0.033     0.000       0.000   -0.044   6.522667   \n",
              "\n",
              "   PEG_1yrforward  PEG_ltgforward  \n",
              "0        1.845000        3.061667  \n",
              "0        2.047667        3.108667  \n",
              "0       -0.493333        3.361000  \n",
              "0       -0.160000        0.000000  \n",
              "0       -0.589667      -12.187000  \n",
              "\n",
              "[5 rows x 73 columns]"
            ],
            "text/html": [
              "\n",
              "  <div id=\"df-5097e0ad-ee94-4891-a976-fce900d10734\">\n",
              "    <div class=\"colab-df-container\">\n",
              "      <div>\n",
              "<style scoped>\n",
              "    .dataframe tbody tr th:only-of-type {\n",
              "        vertical-align: middle;\n",
              "    }\n",
              "\n",
              "    .dataframe tbody tr th {\n",
              "        vertical-align: top;\n",
              "    }\n",
              "\n",
              "    .dataframe thead th {\n",
              "        text-align: right;\n",
              "    }\n",
              "</style>\n",
              "<table border=\"1\" class=\"dataframe\">\n",
              "  <thead>\n",
              "    <tr style=\"text-align: right;\">\n",
              "      <th></th>\n",
              "      <th>date</th>\n",
              "      <th>tic</th>\n",
              "      <th>open</th>\n",
              "      <th>high</th>\n",
              "      <th>low</th>\n",
              "      <th>close</th>\n",
              "      <th>volume</th>\n",
              "      <th>day</th>\n",
              "      <th>macd</th>\n",
              "      <th>boll_ub</th>\n",
              "      <th>...</th>\n",
              "      <th>pay_turn</th>\n",
              "      <th>sale_invcap</th>\n",
              "      <th>sale_equity</th>\n",
              "      <th>rd_sale</th>\n",
              "      <th>adv_sale</th>\n",
              "      <th>staff_sale</th>\n",
              "      <th>accrual</th>\n",
              "      <th>ptb</th>\n",
              "      <th>PEG_1yrforward</th>\n",
              "      <th>PEG_ltgforward</th>\n",
              "    </tr>\n",
              "  </thead>\n",
              "  <tbody>\n",
              "    <tr>\n",
              "      <th>0</th>\n",
              "      <td>2020-08-01</td>\n",
              "      <td>AAPL</td>\n",
              "      <td>108.199997</td>\n",
              "      <td>111.637497</td>\n",
              "      <td>107.892502</td>\n",
              "      <td>107.266502</td>\n",
              "      <td>308151200.0</td>\n",
              "      <td>0.0</td>\n",
              "      <td>3.166571</td>\n",
              "      <td>103.299576</td>\n",
              "      <td>...</td>\n",
              "      <td>3.580</td>\n",
              "      <td>1.592</td>\n",
              "      <td>4.201</td>\n",
              "      <td>0.068</td>\n",
              "      <td>0.000</td>\n",
              "      <td>0.000</td>\n",
              "      <td>-0.070</td>\n",
              "      <td>31.659333</td>\n",
              "      <td>1.845000</td>\n",
              "      <td>3.061667</td>\n",
              "    </tr>\n",
              "    <tr>\n",
              "      <th>0</th>\n",
              "      <td>2020-08-01</td>\n",
              "      <td>AMGN</td>\n",
              "      <td>244.850006</td>\n",
              "      <td>249.020004</td>\n",
              "      <td>244.529999</td>\n",
              "      <td>229.484116</td>\n",
              "      <td>1853900.0</td>\n",
              "      <td>0.0</td>\n",
              "      <td>1.846089</td>\n",
              "      <td>242.161453</td>\n",
              "      <td>...</td>\n",
              "      <td>2.457</td>\n",
              "      <td>0.600</td>\n",
              "      <td>2.451</td>\n",
              "      <td>0.172</td>\n",
              "      <td>0.034</td>\n",
              "      <td>0.000</td>\n",
              "      <td>-0.056</td>\n",
              "      <td>11.993333</td>\n",
              "      <td>2.047667</td>\n",
              "      <td>3.108667</td>\n",
              "    </tr>\n",
              "    <tr>\n",
              "      <th>0</th>\n",
              "      <td>2020-08-01</td>\n",
              "      <td>AXP</td>\n",
              "      <td>93.309998</td>\n",
              "      <td>94.400002</td>\n",
              "      <td>92.440002</td>\n",
              "      <td>90.898560</td>\n",
              "      <td>2869000.0</td>\n",
              "      <td>0.0</td>\n",
              "      <td>-0.468254</td>\n",
              "      <td>95.370092</td>\n",
              "      <td>...</td>\n",
              "      <td>0.387</td>\n",
              "      <td>0.588</td>\n",
              "      <td>1.867</td>\n",
              "      <td>0.000</td>\n",
              "      <td>0.000</td>\n",
              "      <td>0.126</td>\n",
              "      <td>-0.010</td>\n",
              "      <td>4.366000</td>\n",
              "      <td>-0.493333</td>\n",
              "      <td>3.361000</td>\n",
              "    </tr>\n",
              "    <tr>\n",
              "      <th>0</th>\n",
              "      <td>2020-08-01</td>\n",
              "      <td>BA</td>\n",
              "      <td>156.509995</td>\n",
              "      <td>163.580002</td>\n",
              "      <td>153.410004</td>\n",
              "      <td>162.270004</td>\n",
              "      <td>38520500.0</td>\n",
              "      <td>0.0</td>\n",
              "      <td>-4.022719</td>\n",
              "      <td>188.746996</td>\n",
              "      <td>...</td>\n",
              "      <td>4.776</td>\n",
              "      <td>1.963</td>\n",
              "      <td>0.000</td>\n",
              "      <td>0.041</td>\n",
              "      <td>0.000</td>\n",
              "      <td>0.000</td>\n",
              "      <td>0.083</td>\n",
              "      <td>0.000000</td>\n",
              "      <td>-0.160000</td>\n",
              "      <td>0.000000</td>\n",
              "    </tr>\n",
              "    <tr>\n",
              "      <th>0</th>\n",
              "      <td>2020-08-01</td>\n",
              "      <td>CAT</td>\n",
              "      <td>132.300003</td>\n",
              "      <td>133.000000</td>\n",
              "      <td>131.100006</td>\n",
              "      <td>125.353134</td>\n",
              "      <td>2851100.0</td>\n",
              "      <td>0.0</td>\n",
              "      <td>2.364296</td>\n",
              "      <td>136.737679</td>\n",
              "      <td>...</td>\n",
              "      <td>4.942</td>\n",
              "      <td>1.080</td>\n",
              "      <td>3.039</td>\n",
              "      <td>0.033</td>\n",
              "      <td>0.000</td>\n",
              "      <td>0.000</td>\n",
              "      <td>-0.044</td>\n",
              "      <td>6.522667</td>\n",
              "      <td>-0.589667</td>\n",
              "      <td>-12.187000</td>\n",
              "    </tr>\n",
              "  </tbody>\n",
              "</table>\n",
              "<p>5 rows × 73 columns</p>\n",
              "</div>\n",
              "      <button class=\"colab-df-convert\" onclick=\"convertToInteractive('df-5097e0ad-ee94-4891-a976-fce900d10734')\"\n",
              "              title=\"Convert this dataframe to an interactive table.\"\n",
              "              style=\"display:none;\">\n",
              "        \n",
              "  <svg xmlns=\"http://www.w3.org/2000/svg\" height=\"24px\"viewBox=\"0 0 24 24\"\n",
              "       width=\"24px\">\n",
              "    <path d=\"M0 0h24v24H0V0z\" fill=\"none\"/>\n",
              "    <path d=\"M18.56 5.44l.94 2.06.94-2.06 2.06-.94-2.06-.94-.94-2.06-.94 2.06-2.06.94zm-11 1L8.5 8.5l.94-2.06 2.06-.94-2.06-.94L8.5 2.5l-.94 2.06-2.06.94zm10 10l.94 2.06.94-2.06 2.06-.94-2.06-.94-.94-2.06-.94 2.06-2.06.94z\"/><path d=\"M17.41 7.96l-1.37-1.37c-.4-.4-.92-.59-1.43-.59-.52 0-1.04.2-1.43.59L10.3 9.45l-7.72 7.72c-.78.78-.78 2.05 0 2.83L4 21.41c.39.39.9.59 1.41.59.51 0 1.02-.2 1.41-.59l7.78-7.78 2.81-2.81c.8-.78.8-2.07 0-2.86zM5.41 20L4 18.59l7.72-7.72 1.47 1.35L5.41 20z\"/>\n",
              "  </svg>\n",
              "      </button>\n",
              "      \n",
              "  <style>\n",
              "    .colab-df-container {\n",
              "      display:flex;\n",
              "      flex-wrap:wrap;\n",
              "      gap: 12px;\n",
              "    }\n",
              "\n",
              "    .colab-df-convert {\n",
              "      background-color: #E8F0FE;\n",
              "      border: none;\n",
              "      border-radius: 50%;\n",
              "      cursor: pointer;\n",
              "      display: none;\n",
              "      fill: #1967D2;\n",
              "      height: 32px;\n",
              "      padding: 0 0 0 0;\n",
              "      width: 32px;\n",
              "    }\n",
              "\n",
              "    .colab-df-convert:hover {\n",
              "      background-color: #E2EBFA;\n",
              "      box-shadow: 0px 1px 2px rgba(60, 64, 67, 0.3), 0px 1px 3px 1px rgba(60, 64, 67, 0.15);\n",
              "      fill: #174EA6;\n",
              "    }\n",
              "\n",
              "    [theme=dark] .colab-df-convert {\n",
              "      background-color: #3B4455;\n",
              "      fill: #D2E3FC;\n",
              "    }\n",
              "\n",
              "    [theme=dark] .colab-df-convert:hover {\n",
              "      background-color: #434B5C;\n",
              "      box-shadow: 0px 1px 3px 1px rgba(0, 0, 0, 0.15);\n",
              "      filter: drop-shadow(0px 1px 2px rgba(0, 0, 0, 0.3));\n",
              "      fill: #FFFFFF;\n",
              "    }\n",
              "  </style>\n",
              "\n",
              "      <script>\n",
              "        const buttonEl =\n",
              "          document.querySelector('#df-5097e0ad-ee94-4891-a976-fce900d10734 button.colab-df-convert');\n",
              "        buttonEl.style.display =\n",
              "          google.colab.kernel.accessAllowed ? 'block' : 'none';\n",
              "\n",
              "        async function convertToInteractive(key) {\n",
              "          const element = document.querySelector('#df-5097e0ad-ee94-4891-a976-fce900d10734');\n",
              "          const dataTable =\n",
              "            await google.colab.kernel.invokeFunction('convertToInteractive',\n",
              "                                                     [key], {});\n",
              "          if (!dataTable) return;\n",
              "\n",
              "          const docLinkHtml = 'Like what you see? Visit the ' +\n",
              "            '<a target=\"_blank\" href=https://colab.research.google.com/notebooks/data_table.ipynb>data table notebook</a>'\n",
              "            + ' to learn more about interactive tables.';\n",
              "          element.innerHTML = '';\n",
              "          dataTable['output_type'] = 'display_data';\n",
              "          await google.colab.output.renderOutput(dataTable, element);\n",
              "          const docLink = document.createElement('div');\n",
              "          docLink.innerHTML = docLinkHtml;\n",
              "          element.appendChild(docLink);\n",
              "        }\n",
              "      </script>\n",
              "    </div>\n",
              "  </div>\n",
              "  "
            ]
          },
          "metadata": {},
          "execution_count": 306
        }
      ],
      "source": [
        "trade_data.head()"
      ]
    },
    {
      "cell_type": "code",
      "execution_count": null,
      "metadata": {
        "id": "eLOnL5eYh1jR",
        "outputId": "8c8b842b-9a45-4576-b6d1-6694edf50996",
        "colab": {
          "base_uri": "https://localhost:8080/"
        }
      },
      "outputs": [
        {
          "output_type": "stream",
          "name": "stdout",
          "text": [
            "hit end!\n"
          ]
        }
      ],
      "source": [
        "df_account_value_ppo, df_actions_ppo = DRLAgent.DRL_prediction(\n",
        "    model=trained_ppo, \n",
        "    environment = e_trade_gym) if if_using_ppo else [None, None]\n",
        "\n",
        "df_account_value_ddpg, df_actions_ddpg = DRLAgent.DRL_prediction(\n",
        "    model=trained_ddpg, \n",
        "    environment = e_trade_gym) if if_using_ddpg else [None, None]\n",
        "\n",
        "df_account_value_a2c, df_actions_a2c = DRLAgent.DRL_prediction(\n",
        "    model=trained_a2c, \n",
        "    environment = e_trade_gym) if if_using_a2c else [None, None]\n",
        "\n",
        "df_account_value_td3, df_actions_td3 = DRLAgent.DRL_prediction(\n",
        "    model=trained_td3, \n",
        "    environment = e_trade_gym) if if_using_td3 else [None, None]\n",
        "\n",
        "df_account_value_sac, df_actions_sac = DRLAgent.DRL_prediction(\n",
        "    model=trained_sac, \n",
        "    environment = e_trade_gym) if if_using_sac else [None, None]"
      ]
    },
    {
      "cell_type": "code",
      "execution_count": null,
      "metadata": {
        "id": "ERxw3KqLkcP4"
      },
      "outputs": [],
      "source": [
        "# df_account_value_ppo.shape\n",
        "# df_account_value_ddpg.shape\n",
        "# df_account_value_a2c.shape\n",
        "# df_account_value_td3.shape\n",
        "# df_account_value_sac.shape"
      ]
    },
    {
      "cell_type": "code",
      "execution_count": null,
      "metadata": {
        "id": "2yRkNguY5yvp"
      },
      "outputs": [],
      "source": [
        "# df_account_value_ppo.tail()\n",
        "# df_account_value_ddpg.tail()\n",
        "# df_account_value_a2c.tail()\n",
        "# df_account_value_td3.tail()\n",
        "# df_account_value_sac.tail()"
      ]
    },
    {
      "cell_type": "code",
      "execution_count": null,
      "metadata": {
        "id": "nFlK5hNbWVFk"
      },
      "outputs": [],
      "source": [
        "# df_actions_ppo.head()\n",
        "# df_actions_ddpg.head()\n",
        "# df_actions_a2c.head()\n",
        "# df_actions_td3.head()\n",
        "# df_actions_sac.head()"
      ]
    },
    {
      "cell_type": "code",
      "source": [
        "df_account_value_sac.to_csv(\"./\"+config.RESULTS_DIR+\"/df_account_value_sac_\"+now+'.csv')"
      ],
      "metadata": {
        "id": "0HF02WGiOxNq"
      },
      "execution_count": null,
      "outputs": []
    },
    {
      "cell_type": "markdown",
      "metadata": {
        "id": "W6vvNSC6h1jZ"
      },
      "source": [
        "<a id='6'></a>\n",
        "# Part 7: Backtest Our Strategy\n",
        "Backtesting plays a key role in evaluating the performance of a trading strategy. Automated backtesting tool is preferred because it reduces the human error. We usually use the Quantopian pyfolio package to backtest our trading strategies. It is easy to use and consists of various individual plots that provide a comprehensive image of the performance of a trading strategy."
      ]
    },
    {
      "cell_type": "markdown",
      "metadata": {
        "id": "Lr2zX7ZxNyFQ"
      },
      "source": [
        "<a id='6.1'></a>\n",
        "## 7.1 BackTestStats\n",
        "pass in df_account_value, this information is stored in env class\n"
      ]
    },
    {
      "cell_type": "code",
      "execution_count": null,
      "metadata": {
        "id": "Nzkr9yv-AdV_",
        "outputId": "e1eae001-3ca6-4c31-d150-db2ca740c19f",
        "colab": {
          "base_uri": "https://localhost:8080/"
        }
      },
      "outputs": [
        {
          "output_type": "stream",
          "name": "stdout",
          "text": [
            "==============Get Backtest Results===========\n",
            "\n",
            " sac:\n",
            "Annual return          0.148457\n",
            "Cumulative returns     0.263637\n",
            "Annual volatility      0.113456\n",
            "Sharpe ratio           1.279875\n",
            "Calmar ratio           2.147022\n",
            "Stability              0.944183\n",
            "Max drawdown          -0.069145\n",
            "Omega ratio            1.300778\n",
            "Sortino ratio          1.880154\n",
            "Skew                        NaN\n",
            "Kurtosis                    NaN\n",
            "Tail ratio             1.106799\n",
            "Daily value at risk   -0.013718\n",
            "dtype: float64\n"
          ]
        }
      ],
      "source": [
        "print(\"==============Get Backtest Results===========\")\n",
        "now = datetime.datetime.now().strftime('%Y%m%d-%Hh%M')\n",
        "\n",
        "if if_using_ppo:\n",
        "  print(\"\\n ppo:\")\n",
        "  perf_stats_all_ppo = backtest_stats(account_value=df_account_value_ppo)\n",
        "  perf_stats_all_ppo = pd.DataFrame(perf_stats_all_ppo)\n",
        "  perf_stats_all_ppo.to_csv(\"./\"+config.RESULTS_DIR+\"/perf_stats_all_ppo_\"+now+'.csv')\n",
        "\n",
        "if if_using_ddpg:\n",
        "  print(\"\\n ddpg:\")\n",
        "  perf_stats_all_ddpg = backtest_stats(account_value=df_account_value_ddpg)\n",
        "  perf_stats_all_ddpg = pd.DataFrame(perf_stats_all_ddpg)\n",
        "  perf_stats_all_ddpg.to_csv(\"./\"+config.RESULTS_DIR+\"/perf_stats_all_ddpg_\"+now+'.csv')\n",
        "\n",
        "if if_using_a2c:\n",
        "  print(\"\\n a2c:\")\n",
        "  perf_stats_all_a2c = backtest_stats(account_value=df_account_value_a2c)\n",
        "  perf_stats_all_a2c = pd.DataFrame(perf_stats_all_a2c)\n",
        "  perf_stats_all_a2c.to_csv(\"./\"+config.RESULTS_DIR+\"/perf_stats_all_a2c_\"+now+'.csv')\n",
        "\n",
        "if if_using_td3:\n",
        "  print(\"\\n atd3:\")\n",
        "  perf_stats_all_td3 = backtest_stats(account_value=df_account_value_td3)\n",
        "  perf_stats_all_td3 = pd.DataFrame(perf_stats_all_td3)\n",
        "  perf_stats_all_td3.to_csv(\"./\"+config.RESULTS_DIR+\"/perf_stats_all_td3_\"+now+'.csv')\n",
        "\n",
        "if if_using_sac:\n",
        "  print(\"\\n sac:\")\n",
        "  perf_stats_all_sac = backtest_stats(account_value=df_account_value_sac)\n",
        "  perf_stats_all_sac = pd.DataFrame(perf_stats_all_sac)\n",
        "  perf_stats_all_sac.to_csv(\"./\"+config.RESULTS_DIR+\"/perf_stats_all_sac_\"+now+'.csv')"
      ]
    },
    {
      "cell_type": "code",
      "execution_count": null,
      "metadata": {
        "id": "QkV-LB66iwhD",
        "outputId": "af8369bd-2567-4c07-9ab6-79676937aa45",
        "colab": {
          "base_uri": "https://localhost:8080/"
        }
      },
      "outputs": [
        {
          "output_type": "stream",
          "name": "stdout",
          "text": [
            "==============Get Baseline Stats===========\n",
            "[*********************100%***********************]  1 of 1 completed\n",
            "Shape of DataFrame:  (294, 8)\n",
            "Annual return          0.226750\n",
            "Cumulative returns     0.269255\n",
            "Annual volatility      0.139601\n",
            "Sharpe ratio           1.539212\n",
            "Calmar ratio           2.538976\n",
            "Stability              0.915926\n",
            "Max drawdown          -0.089308\n",
            "Omega ratio            1.294292\n",
            "Sortino ratio          2.240389\n",
            "Skew                        NaN\n",
            "Kurtosis                    NaN\n",
            "Tail ratio             0.995019\n",
            "Daily value at risk   -0.016735\n",
            "dtype: float64\n"
          ]
        }
      ],
      "source": [
        "#baseline stats\n",
        "print(\"==============Get Baseline Stats===========\")\n",
        "baseline_df = get_baseline(\n",
        "        ticker=\"^DJI\", \n",
        "        start = TEST_START_DATE,\n",
        "        end = TEST_END_DATE)\n",
        "\n",
        "stats = backtest_stats(baseline_df, value_col_name = 'close')\n"
      ]
    },
    {
      "cell_type": "markdown",
      "metadata": {
        "id": "9U6Suru3h1jc"
      },
      "source": [
        "<a id='6.2'></a>\n",
        "## 7.2 BackTestPlot"
      ]
    },
    {
      "cell_type": "code",
      "execution_count": null,
      "metadata": {
        "id": "lKRGftSS7pNM",
        "outputId": "87e66860-f559-46c1-8405-e8808d22f49d",
        "colab": {
          "base_uri": "https://localhost:8080/",
          "height": 1000
        }
      },
      "outputs": [
        {
          "output_type": "stream",
          "name": "stdout",
          "text": [
            "==============Compare to DJIA===========\n",
            "[*********************100%***********************]  1 of 1 completed\n",
            "Shape of DataFrame:  (294, 8)\n"
          ]
        },
        {
          "output_type": "display_data",
          "data": {
            "text/plain": [
              "<IPython.core.display.HTML object>"
            ],
            "text/html": [
              "<table border=\"1\" class=\"dataframe\">\n",
              "  <thead>\n",
              "    <tr style=\"text-align: right;\"><th>Start date</th><td colspan=2>2020-08-01</td></tr>\n",
              "    <tr style=\"text-align: right;\"><th>End date</th><td colspan=2>2021-09-30</td></tr>\n",
              "    <tr style=\"text-align: right;\"><th>Total months</th><td colspan=2>20</td></tr>\n",
              "    <tr style=\"text-align: right;\">\n",
              "      <th></th>\n",
              "      <th>Backtest</th>\n",
              "    </tr>\n",
              "  </thead>\n",
              "  <tbody>\n",
              "    <tr>\n",
              "      <th>Annual return</th>\n",
              "      <td>14.846%</td>\n",
              "    </tr>\n",
              "    <tr>\n",
              "      <th>Cumulative returns</th>\n",
              "      <td>26.364%</td>\n",
              "    </tr>\n",
              "    <tr>\n",
              "      <th>Annual volatility</th>\n",
              "      <td>11.346%</td>\n",
              "    </tr>\n",
              "    <tr>\n",
              "      <th>Sharpe ratio</th>\n",
              "      <td>1.28</td>\n",
              "    </tr>\n",
              "    <tr>\n",
              "      <th>Calmar ratio</th>\n",
              "      <td>2.15</td>\n",
              "    </tr>\n",
              "    <tr>\n",
              "      <th>Stability</th>\n",
              "      <td>0.94</td>\n",
              "    </tr>\n",
              "    <tr>\n",
              "      <th>Max drawdown</th>\n",
              "      <td>-6.915%</td>\n",
              "    </tr>\n",
              "    <tr>\n",
              "      <th>Omega ratio</th>\n",
              "      <td>1.30</td>\n",
              "    </tr>\n",
              "    <tr>\n",
              "      <th>Sortino ratio</th>\n",
              "      <td>1.88</td>\n",
              "    </tr>\n",
              "    <tr>\n",
              "      <th>Skew</th>\n",
              "      <td>NaN</td>\n",
              "    </tr>\n",
              "    <tr>\n",
              "      <th>Kurtosis</th>\n",
              "      <td>NaN</td>\n",
              "    </tr>\n",
              "    <tr>\n",
              "      <th>Tail ratio</th>\n",
              "      <td>1.11</td>\n",
              "    </tr>\n",
              "    <tr>\n",
              "      <th>Daily value at risk</th>\n",
              "      <td>-1.372%</td>\n",
              "    </tr>\n",
              "    <tr>\n",
              "      <th>Alpha</th>\n",
              "      <td>0.05</td>\n",
              "    </tr>\n",
              "    <tr>\n",
              "      <th>Beta</th>\n",
              "      <td>0.63</td>\n",
              "    </tr>\n",
              "  </tbody>\n",
              "</table>"
            ]
          },
          "metadata": {}
        },
        {
          "output_type": "display_data",
          "data": {
            "text/plain": [
              "<IPython.core.display.HTML object>"
            ],
            "text/html": [
              "<table border=\"1\" class=\"dataframe\">\n",
              "  <thead>\n",
              "    <tr style=\"text-align: right;\">\n",
              "      <th>Worst drawdown periods</th>\n",
              "      <th>Net drawdown in %</th>\n",
              "      <th>Peak date</th>\n",
              "      <th>Valley date</th>\n",
              "      <th>Recovery date</th>\n",
              "      <th>Duration</th>\n",
              "    </tr>\n",
              "  </thead>\n",
              "  <tbody>\n",
              "    <tr>\n",
              "      <th>0</th>\n",
              "      <td>6.91</td>\n",
              "      <td>2020-09-02</td>\n",
              "      <td>2020-10-28</td>\n",
              "      <td>2020-11-05</td>\n",
              "      <td>47</td>\n",
              "    </tr>\n",
              "    <tr>\n",
              "      <th>1</th>\n",
              "      <td>5.38</td>\n",
              "      <td>2021-09-02</td>\n",
              "      <td>2021-09-30</td>\n",
              "      <td>NaT</td>\n",
              "      <td>NaN</td>\n",
              "    </tr>\n",
              "    <tr>\n",
              "      <th>2</th>\n",
              "      <td>4.30</td>\n",
              "      <td>2021-05-10</td>\n",
              "      <td>2021-06-18</td>\n",
              "      <td>2021-07-02</td>\n",
              "      <td>40</td>\n",
              "    </tr>\n",
              "    <tr>\n",
              "      <th>3</th>\n",
              "      <td>3.72</td>\n",
              "      <td>2021-02-24</td>\n",
              "      <td>2021-03-04</td>\n",
              "      <td>2021-03-10</td>\n",
              "      <td>11</td>\n",
              "    </tr>\n",
              "    <tr>\n",
              "      <th>4</th>\n",
              "      <td>3.62</td>\n",
              "      <td>2021-01-08</td>\n",
              "      <td>2021-01-29</td>\n",
              "      <td>2021-02-09</td>\n",
              "      <td>23</td>\n",
              "    </tr>\n",
              "  </tbody>\n",
              "</table>"
            ]
          },
          "metadata": {}
        },
        {
          "output_type": "display_data",
          "data": {
            "text/plain": [
              "<IPython.core.display.HTML object>"
            ],
            "text/html": [
              "<table border=\"1\" class=\"dataframe\">\n",
              "  <thead>\n",
              "    <tr style=\"text-align: right;\">\n",
              "      <th>Stress Events</th>\n",
              "      <th>mean</th>\n",
              "      <th>min</th>\n",
              "      <th>max</th>\n",
              "    </tr>\n",
              "  </thead>\n",
              "  <tbody>\n",
              "    <tr>\n",
              "      <th>New Normal</th>\n",
              "      <td>0.06%</td>\n",
              "      <td>-3.15%</td>\n",
              "      <td>2.98%</td>\n",
              "    </tr>\n",
              "  </tbody>\n",
              "</table>"
            ]
          },
          "metadata": {}
        },
        {
          "output_type": "display_data",
          "data": {
            "text/plain": [
              "<Figure size 1008x5184 with 13 Axes>"
            ],
            "image/png": "[encoded data removed]"
          },
          "metadata": {
            "needs_background": "light"
          }
        },
        {
          "output_type": "display_data",
          "data": {
            "text/plain": [
              "<Figure size 1008x432 with 1 Axes>"
            ],
            "image/png": "[encoded data removed]"
          },
          "metadata": {
            "needs_background": "light"
          }
        }
      ],
      "source": [
        "print(\"==============Compare to DJIA===========\")\n",
        "%matplotlib inline\n",
        "# S&P 500: ^GSPC\n",
        "# Dow Jones Index: ^DJI\n",
        "# NASDAQ 100: ^NDX\n",
        "\n",
        "if if_using_ppo:\n",
        "  backtest_plot(df_account_value_ppo, \n",
        "              baseline_ticker = '^DJI', \n",
        "              baseline_start = TEST_START_DATE,\n",
        "              baseline_end = TEST_END_DATE)\n",
        "\n",
        "if if_using_ddpg:\n",
        "  backtest_plot(df_account_value_ddpg, \n",
        "              baseline_ticker = '^DJI', \n",
        "              baseline_start = TEST_START_DATE,\n",
        "              baseline_end = TEST_END_DATE)\n",
        "\n",
        "if if_using_a2c:\n",
        "  backtest_plot(df_account_value_a2c, \n",
        "              baseline_ticker = '^DJI', \n",
        "              baseline_start = TEST_START_DATE,\n",
        "              baseline_end = TEST_END_DATE)\n",
        "\n",
        "if if_using_td3:\n",
        "  backtest_plot(df_account_value_td3, \n",
        "              baseline_ticker = '^DJI', \n",
        "              baseline_start = TEST_START_DATE,\n",
        "              baseline_end = TEST_END_DATE)\n",
        "\n",
        "if if_using_sac:\n",
        "  backtest_plot(df_account_value_sac, \n",
        "              baseline_ticker = '^DJI', \n",
        "              baseline_start = TEST_START_DATE,\n",
        "              baseline_end = TEST_END_DATE)"
      ]
    }
  ]
}